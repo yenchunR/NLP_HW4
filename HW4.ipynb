{
  "nbformat": 4,
  "nbformat_minor": 0,
  "metadata": {
    "colab": {
      "name": "HW4.ipynb",
      "provenance": [],
      "collapsed_sections": [
        "Y9IOSIgvNeBU",
        "vF7ZwfOKpdEw"
      ],
      "authorship_tag": "ABX9TyMWaUn6hncaSvX8V5iUE4EK",
      "include_colab_link": true
    },
    "kernelspec": {
      "name": "python3",
      "display_name": "Python 3"
    },
    "language_info": {
      "name": "python"
    }
  },
  "cells": [
    {
      "cell_type": "markdown",
      "metadata": {
        "id": "view-in-github",
        "colab_type": "text"
      },
      "source": [
        "<a href=\"https://colab.research.google.com/github/yenchunR/NLP_HW4/blob/master/HW4.ipynb\" target=\"_parent\"><img src=\"https://colab.research.google.com/assets/colab-badge.svg\" alt=\"Open In Colab\"/></a>"
      ]
    },
    {
      "cell_type": "markdown",
      "metadata": {
        "id": "Y9IOSIgvNeBU"
      },
      "source": [
        "# Install Module"
      ]
    },
    {
      "cell_type": "code",
      "metadata": {
        "colab": {
          "base_uri": "https://localhost:8080/"
        },
        "id": "zQ_DqNfo0Wfd",
        "outputId": "a51d1c0c-41b0-4ff8-d472-df282d5beb47"
      },
      "source": [
        "!pip3 install hanziconv"
      ],
      "execution_count": 10,
      "outputs": [
        {
          "output_type": "stream",
          "text": [
            "Collecting hanziconv\n",
            "  Downloading hanziconv-0.3.2.tar.gz (276 kB)\n",
            "\u001b[?25l\r\u001b[K     |█▏                              | 10 kB 22.2 MB/s eta 0:00:01\r\u001b[K     |██▍                             | 20 kB 12.6 MB/s eta 0:00:01\r\u001b[K     |███▌                            | 30 kB 9.7 MB/s eta 0:00:01\r\u001b[K     |████▊                           | 40 kB 8.8 MB/s eta 0:00:01\r\u001b[K     |██████                          | 51 kB 5.1 MB/s eta 0:00:01\r\u001b[K     |███████                         | 61 kB 5.2 MB/s eta 0:00:01\r\u001b[K     |████████▎                       | 71 kB 5.3 MB/s eta 0:00:01\r\u001b[K     |█████████▌                      | 81 kB 5.9 MB/s eta 0:00:01\r\u001b[K     |██████████▋                     | 92 kB 4.6 MB/s eta 0:00:01\r\u001b[K     |███████████▉                    | 102 kB 5.0 MB/s eta 0:00:01\r\u001b[K     |█████████████                   | 112 kB 5.0 MB/s eta 0:00:01\r\u001b[K     |██████████████▏                 | 122 kB 5.0 MB/s eta 0:00:01\r\u001b[K     |███████████████▍                | 133 kB 5.0 MB/s eta 0:00:01\r\u001b[K     |████████████████▋               | 143 kB 5.0 MB/s eta 0:00:01\r\u001b[K     |█████████████████▊              | 153 kB 5.0 MB/s eta 0:00:01\r\u001b[K     |███████████████████             | 163 kB 5.0 MB/s eta 0:00:01\r\u001b[K     |████████████████████▏           | 174 kB 5.0 MB/s eta 0:00:01\r\u001b[K     |█████████████████████▎          | 184 kB 5.0 MB/s eta 0:00:01\r\u001b[K     |██████████████████████▌         | 194 kB 5.0 MB/s eta 0:00:01\r\u001b[K     |███████████████████████▊        | 204 kB 5.0 MB/s eta 0:00:01\r\u001b[K     |████████████████████████▉       | 215 kB 5.0 MB/s eta 0:00:01\r\u001b[K     |██████████████████████████      | 225 kB 5.0 MB/s eta 0:00:01\r\u001b[K     |███████████████████████████▎    | 235 kB 5.0 MB/s eta 0:00:01\r\u001b[K     |████████████████████████████▍   | 245 kB 5.0 MB/s eta 0:00:01\r\u001b[K     |█████████████████████████████▋  | 256 kB 5.0 MB/s eta 0:00:01\r\u001b[K     |██████████████████████████████▉ | 266 kB 5.0 MB/s eta 0:00:01\r\u001b[K     |████████████████████████████████| 276 kB 5.0 MB/s eta 0:00:01\r\u001b[K     |████████████████████████████████| 276 kB 5.0 MB/s \n",
            "\u001b[?25hBuilding wheels for collected packages: hanziconv\n",
            "  Building wheel for hanziconv (setup.py) ... \u001b[?25l\u001b[?25hdone\n",
            "  Created wheel for hanziconv: filename=hanziconv-0.3.2-py2.py3-none-any.whl size=23225 sha256=d6e26247a0d6916053762a2b27e5079e6bd7e17ac85cb50a9938f0a9943d76ed\n",
            "  Stored in directory: /root/.cache/pip/wheels/bf/e3/22/7bf50146a3ee95d1fdcbfabc44a1fe15b6e2ab7348ab7337bf\n",
            "Successfully built hanziconv\n",
            "Installing collected packages: hanziconv\n",
            "Successfully installed hanziconv-0.3.2\n"
          ],
          "name": "stdout"
        }
      ]
    },
    {
      "cell_type": "code",
      "metadata": {
        "colab": {
          "base_uri": "https://localhost:8080/"
        },
        "id": "OlGwD3cYYAkF",
        "outputId": "682b9419-e37a-481d-9d68-056d52de5d10"
      },
      "source": [
        "!pip3 install gensim"
      ],
      "execution_count": 91,
      "outputs": [
        {
          "output_type": "stream",
          "text": [
            "Requirement already satisfied: gensim in /usr/local/lib/python3.7/dist-packages (3.6.0)\n",
            "Requirement already satisfied: numpy>=1.11.3 in /usr/local/lib/python3.7/dist-packages (from gensim) (1.19.5)\n",
            "Requirement already satisfied: smart-open>=1.2.1 in /usr/local/lib/python3.7/dist-packages (from gensim) (5.1.0)\n",
            "Requirement already satisfied: six>=1.5.0 in /usr/local/lib/python3.7/dist-packages (from gensim) (1.15.0)\n",
            "Requirement already satisfied: scipy>=0.18.1 in /usr/local/lib/python3.7/dist-packages (from gensim) (1.4.1)\n"
          ],
          "name": "stdout"
        }
      ]
    },
    {
      "cell_type": "markdown",
      "metadata": {
        "id": "vF7ZwfOKpdEw"
      },
      "source": [
        "# 將Colab連結Drive"
      ]
    },
    {
      "cell_type": "code",
      "metadata": {
        "colab": {
          "base_uri": "https://localhost:8080/"
        },
        "id": "9D3f_ouRpj2B",
        "outputId": "982668c1-9d22-47c6-f116-b7313dfb43b8"
      },
      "source": [
        "from google.colab import drive\n",
        "drive.mount('/content/drive')"
      ],
      "execution_count": 2,
      "outputs": [
        {
          "output_type": "stream",
          "text": [
            "Mounted at /content/drive\n"
          ],
          "name": "stdout"
        }
      ]
    },
    {
      "cell_type": "markdown",
      "metadata": {
        "id": "Kia8HbibsPxt"
      },
      "source": [
        "# 讀取所有檔案路徑"
      ]
    },
    {
      "cell_type": "code",
      "metadata": {
        "colab": {
          "base_uri": "https://localhost:8080/"
        },
        "id": "XyrJilquqGK0",
        "outputId": "776646f4-1719-4e67-df65-fdc8324f6fa1"
      },
      "source": [
        "import pandas as pd\n",
        "import os\n",
        "\n",
        "# 把列出資料夾的程式碼寫成一個函式\n",
        "filePath = []\n",
        "def show_folder_content(folder_path):\n",
        "\n",
        "    folder_content = os.listdir(folder_path)\n",
        "    for item in folder_content:\n",
        "        if os.path.isdir(folder_path + '/' + item):\n",
        "            # 呼叫自己處理這個子資料夾\n",
        "            show_folder_content(folder_path + '/' + item)\n",
        "        elif os.path.isfile(folder_path + '/' + item):\n",
        "            filePath.append(folder_path + '/' + item)\n",
        "        else:\n",
        "            print('無法辨識：' + item)\n",
        "\n",
        "\n",
        "# 顯示指定資料夾的內容\n",
        "target_folder = '/content/drive/My Drive/wiki_zh'\n",
        "show_folder_content(target_folder)\n",
        "print(\"Finish\", len(filePath))\n",
        "print(filePath)"
      ],
      "execution_count": 22,
      "outputs": [
        {
          "output_type": "stream",
          "text": [
            "Finish 1279\n",
            "['/content/drive/My Drive/wiki_zh/AM/wiki_73', '/content/drive/My Drive/wiki_zh/AM/wiki_42', '/content/drive/My Drive/wiki_zh/AM/wiki_45', '/content/drive/My Drive/wiki_zh/AM/wiki_11', '/content/drive/My Drive/wiki_zh/AM/wiki_16', '/content/drive/My Drive/wiki_zh/AM/wiki_29', '/content/drive/My Drive/wiki_zh/AM/wiki_20', '/content/drive/My Drive/wiki_zh/AM/wiki_27', '/content/drive/My Drive/wiki_zh/AM/wiki_18', '/content/drive/My Drive/wiki_zh/AM/wiki_44', '/content/drive/My Drive/wiki_zh/AM/wiki_43', '/content/drive/My Drive/wiki_zh/AM/wiki_72', '/content/drive/My Drive/wiki_zh/AM/wiki_26', '/content/drive/My Drive/wiki_zh/AM/wiki_19', '/content/drive/My Drive/wiki_zh/AM/wiki_21', '/content/drive/My Drive/wiki_zh/AM/wiki_17', '/content/drive/My Drive/wiki_zh/AM/wiki_28', '/content/drive/My Drive/wiki_zh/AM/wiki_10', '/content/drive/My Drive/wiki_zh/AM/wiki_32', '/content/drive/My Drive/wiki_zh/AM/wiki_35', '/content/drive/My Drive/wiki_zh/AM/wiki_03', '/content/drive/My Drive/wiki_zh/AM/wiki_04', '/content/drive/My Drive/wiki_zh/AM/wiki_50', '/content/drive/My Drive/wiki_zh/AM/wiki_57', '/content/drive/My Drive/wiki_zh/AM/wiki_68', '/content/drive/My Drive/wiki_zh/AM/wiki_61', '/content/drive/My Drive/wiki_zh/AM/wiki_66', '/content/drive/My Drive/wiki_zh/AM/wiki_59', '/content/drive/My Drive/wiki_zh/AM/wiki_05', '/content/drive/My Drive/wiki_zh/AM/wiki_02', '/content/drive/My Drive/wiki_zh/AM/wiki_34', '/content/drive/My Drive/wiki_zh/AM/wiki_33', '/content/drive/My Drive/wiki_zh/AM/wiki_67', '/content/drive/My Drive/wiki_zh/AM/wiki_58', '/content/drive/My Drive/wiki_zh/AM/wiki_60', '/content/drive/My Drive/wiki_zh/AM/wiki_56', '/content/drive/My Drive/wiki_zh/AM/wiki_69', '/content/drive/My Drive/wiki_zh/AM/wiki_51', '/content/drive/My Drive/wiki_zh/AM/wiki_15', '/content/drive/My Drive/wiki_zh/AM/wiki_12', '/content/drive/My Drive/wiki_zh/AM/wiki_24', '/content/drive/My Drive/wiki_zh/AM/wiki_23', '/content/drive/My Drive/wiki_zh/AM/wiki_48', '/content/drive/My Drive/wiki_zh/AM/wiki_70', '/content/drive/My Drive/wiki_zh/AM/wiki_46', '/content/drive/My Drive/wiki_zh/AM/wiki_41', '/content/drive/My Drive/wiki_zh/AM/wiki_22', '/content/drive/My Drive/wiki_zh/AM/wiki_25', '/content/drive/My Drive/wiki_zh/AM/wiki_13', '/content/drive/My Drive/wiki_zh/AM/wiki_14', '/content/drive/My Drive/wiki_zh/AM/wiki_40', '/content/drive/My Drive/wiki_zh/AM/wiki_47', '/content/drive/My Drive/wiki_zh/AM/wiki_71', '/content/drive/My Drive/wiki_zh/AM/wiki_49', '/content/drive/My Drive/wiki_zh/AM/wiki_54', '/content/drive/My Drive/wiki_zh/AM/wiki_53', '/content/drive/My Drive/wiki_zh/AM/wiki_65', '/content/drive/My Drive/wiki_zh/AM/wiki_62', '/content/drive/My Drive/wiki_zh/AM/wiki_09', '/content/drive/My Drive/wiki_zh/AM/wiki_36', '/content/drive/My Drive/wiki_zh/AM/wiki_31', '/content/drive/My Drive/wiki_zh/AM/wiki_38', '/content/drive/My Drive/wiki_zh/AM/wiki_07', '/content/drive/My Drive/wiki_zh/AM/wiki_00', '/content/drive/My Drive/wiki_zh/AM/wiki_63', '/content/drive/My Drive/wiki_zh/AM/wiki_64', '/content/drive/My Drive/wiki_zh/AM/wiki_52', '/content/drive/My Drive/wiki_zh/AM/wiki_55', '/content/drive/My Drive/wiki_zh/AM/wiki_01', '/content/drive/My Drive/wiki_zh/AM/wiki_39', '/content/drive/My Drive/wiki_zh/AM/wiki_06', '/content/drive/My Drive/wiki_zh/AM/wiki_30', '/content/drive/My Drive/wiki_zh/AM/wiki_08', '/content/drive/My Drive/wiki_zh/AM/wiki_37', '/content/drive/My Drive/wiki_zh/AD/wiki_73', '/content/drive/My Drive/wiki_zh/AD/wiki_87', '/content/drive/My Drive/wiki_zh/AD/wiki_80', '/content/drive/My Drive/wiki_zh/AD/wiki_74', '/content/drive/My Drive/wiki_zh/AD/wiki_89', '/content/drive/My Drive/wiki_zh/AD/wiki_42', '/content/drive/My Drive/wiki_zh/AD/wiki_45', '/content/drive/My Drive/wiki_zh/AD/wiki_11', '/content/drive/My Drive/wiki_zh/AD/wiki_16', '/content/drive/My Drive/wiki_zh/AD/wiki_29', '/content/drive/My Drive/wiki_zh/AD/wiki_20', '/content/drive/My Drive/wiki_zh/AD/wiki_27', '/content/drive/My Drive/wiki_zh/AD/wiki_18', '/content/drive/My Drive/wiki_zh/AD/wiki_44', '/content/drive/My Drive/wiki_zh/AD/wiki_88', '/content/drive/My Drive/wiki_zh/AD/wiki_43', '/content/drive/My Drive/wiki_zh/AD/wiki_75', '/content/drive/My Drive/wiki_zh/AD/wiki_81', '/content/drive/My Drive/wiki_zh/AD/wiki_86', '/content/drive/My Drive/wiki_zh/AD/wiki_72', '/content/drive/My Drive/wiki_zh/AD/wiki_26', '/content/drive/My Drive/wiki_zh/AD/wiki_19', '/content/drive/My Drive/wiki_zh/AD/wiki_21', '/content/drive/My Drive/wiki_zh/AD/wiki_17', '/content/drive/My Drive/wiki_zh/AD/wiki_28', '/content/drive/My Drive/wiki_zh/AD/wiki_10', '/content/drive/My Drive/wiki_zh/AD/wiki_32', '/content/drive/My Drive/wiki_zh/AD/wiki_35', '/content/drive/My Drive/wiki_zh/AD/wiki_03', '/content/drive/My Drive/wiki_zh/AD/wiki_04', '/content/drive/My Drive/wiki_zh/AD/wiki_50', '/content/drive/My Drive/wiki_zh/AD/wiki_57', '/content/drive/My Drive/wiki_zh/AD/wiki_68', '/content/drive/My Drive/wiki_zh/AD/wiki_61', '/content/drive/My Drive/wiki_zh/AD/wiki_95', '/content/drive/My Drive/wiki_zh/AD/wiki_92', '/content/drive/My Drive/wiki_zh/AD/wiki_66', '/content/drive/My Drive/wiki_zh/AD/wiki_59', '/content/drive/My Drive/wiki_zh/AD/wiki_05', '/content/drive/My Drive/wiki_zh/AD/wiki_02', '/content/drive/My Drive/wiki_zh/AD/wiki_34', '/content/drive/My Drive/wiki_zh/AD/wiki_33', '/content/drive/My Drive/wiki_zh/AD/wiki_67', '/content/drive/My Drive/wiki_zh/AD/wiki_93', '/content/drive/My Drive/wiki_zh/AD/wiki_58', '/content/drive/My Drive/wiki_zh/AD/wiki_94', '/content/drive/My Drive/wiki_zh/AD/wiki_60', '/content/drive/My Drive/wiki_zh/AD/wiki_56', '/content/drive/My Drive/wiki_zh/AD/wiki_69', '/content/drive/My Drive/wiki_zh/AD/wiki_51', '/content/drive/My Drive/wiki_zh/AD/wiki_15', '/content/drive/My Drive/wiki_zh/AD/wiki_12', '/content/drive/My Drive/wiki_zh/AD/wiki_24', '/content/drive/My Drive/wiki_zh/AD/wiki_23', '/content/drive/My Drive/wiki_zh/AD/wiki_48', '/content/drive/My Drive/wiki_zh/AD/wiki_83', '/content/drive/My Drive/wiki_zh/AD/wiki_77', '/content/drive/My Drive/wiki_zh/AD/wiki_70', '/content/drive/My Drive/wiki_zh/AD/wiki_84', '/content/drive/My Drive/wiki_zh/AD/wiki_79', '/content/drive/My Drive/wiki_zh/AD/wiki_46', '/content/drive/My Drive/wiki_zh/AD/wiki_41', '/content/drive/My Drive/wiki_zh/AD/wiki_22', '/content/drive/My Drive/wiki_zh/AD/wiki_25', '/content/drive/My Drive/wiki_zh/AD/wiki_13', '/content/drive/My Drive/wiki_zh/AD/wiki_14', '/content/drive/My Drive/wiki_zh/AD/wiki_40', '/content/drive/My Drive/wiki_zh/AD/wiki_78', '/content/drive/My Drive/wiki_zh/AD/wiki_47', '/content/drive/My Drive/wiki_zh/AD/wiki_85', '/content/drive/My Drive/wiki_zh/AD/wiki_71', '/content/drive/My Drive/wiki_zh/AD/wiki_49', '/content/drive/My Drive/wiki_zh/AD/wiki_76', '/content/drive/My Drive/wiki_zh/AD/wiki_82', '/content/drive/My Drive/wiki_zh/AD/wiki_54', '/content/drive/My Drive/wiki_zh/AD/wiki_53', '/content/drive/My Drive/wiki_zh/AD/wiki_98', '/content/drive/My Drive/wiki_zh/AD/wiki_91', '/content/drive/My Drive/wiki_zh/AD/wiki_65', '/content/drive/My Drive/wiki_zh/AD/wiki_62', '/content/drive/My Drive/wiki_zh/AD/wiki_96', '/content/drive/My Drive/wiki_zh/AD/wiki_09', '/content/drive/My Drive/wiki_zh/AD/wiki_36', '/content/drive/My Drive/wiki_zh/AD/wiki_31', '/content/drive/My Drive/wiki_zh/AD/wiki_38', '/content/drive/My Drive/wiki_zh/AD/wiki_07', '/content/drive/My Drive/wiki_zh/AD/wiki_00', '/content/drive/My Drive/wiki_zh/AD/wiki_97', '/content/drive/My Drive/wiki_zh/AD/wiki_63', '/content/drive/My Drive/wiki_zh/AD/wiki_64', '/content/drive/My Drive/wiki_zh/AD/wiki_90', '/content/drive/My Drive/wiki_zh/AD/wiki_52', '/content/drive/My Drive/wiki_zh/AD/wiki_99', '/content/drive/My Drive/wiki_zh/AD/wiki_55', '/content/drive/My Drive/wiki_zh/AD/wiki_01', '/content/drive/My Drive/wiki_zh/AD/wiki_39', '/content/drive/My Drive/wiki_zh/AD/wiki_06', '/content/drive/My Drive/wiki_zh/AD/wiki_30', '/content/drive/My Drive/wiki_zh/AD/wiki_08', '/content/drive/My Drive/wiki_zh/AD/wiki_37', '/content/drive/My Drive/wiki_zh/AG/wiki_73', '/content/drive/My Drive/wiki_zh/AG/wiki_87', '/content/drive/My Drive/wiki_zh/AG/wiki_80', '/content/drive/My Drive/wiki_zh/AG/wiki_74', '/content/drive/My Drive/wiki_zh/AG/wiki_89', '/content/drive/My Drive/wiki_zh/AG/wiki_42', '/content/drive/My Drive/wiki_zh/AG/wiki_45', '/content/drive/My Drive/wiki_zh/AG/wiki_11', '/content/drive/My Drive/wiki_zh/AG/wiki_16', '/content/drive/My Drive/wiki_zh/AG/wiki_29', '/content/drive/My Drive/wiki_zh/AG/wiki_20', '/content/drive/My Drive/wiki_zh/AG/wiki_27', '/content/drive/My Drive/wiki_zh/AG/wiki_18', '/content/drive/My Drive/wiki_zh/AG/wiki_44', '/content/drive/My Drive/wiki_zh/AG/wiki_88', '/content/drive/My Drive/wiki_zh/AG/wiki_43', '/content/drive/My Drive/wiki_zh/AG/wiki_75', '/content/drive/My Drive/wiki_zh/AG/wiki_81', '/content/drive/My Drive/wiki_zh/AG/wiki_86', '/content/drive/My Drive/wiki_zh/AG/wiki_72', '/content/drive/My Drive/wiki_zh/AG/wiki_26', '/content/drive/My Drive/wiki_zh/AG/wiki_19', '/content/drive/My Drive/wiki_zh/AG/wiki_21', '/content/drive/My Drive/wiki_zh/AG/wiki_17', '/content/drive/My Drive/wiki_zh/AG/wiki_28', '/content/drive/My Drive/wiki_zh/AG/wiki_10', '/content/drive/My Drive/wiki_zh/AG/wiki_32', '/content/drive/My Drive/wiki_zh/AG/wiki_35', '/content/drive/My Drive/wiki_zh/AG/wiki_03', '/content/drive/My Drive/wiki_zh/AG/wiki_04', '/content/drive/My Drive/wiki_zh/AG/wiki_50', '/content/drive/My Drive/wiki_zh/AG/wiki_57', '/content/drive/My Drive/wiki_zh/AG/wiki_68', '/content/drive/My Drive/wiki_zh/AG/wiki_61', '/content/drive/My Drive/wiki_zh/AG/wiki_95', '/content/drive/My Drive/wiki_zh/AG/wiki_92', '/content/drive/My Drive/wiki_zh/AG/wiki_66', '/content/drive/My Drive/wiki_zh/AG/wiki_59', '/content/drive/My Drive/wiki_zh/AG/wiki_05', '/content/drive/My Drive/wiki_zh/AG/wiki_02', '/content/drive/My Drive/wiki_zh/AG/wiki_34', '/content/drive/My Drive/wiki_zh/AG/wiki_33', '/content/drive/My Drive/wiki_zh/AG/wiki_67', '/content/drive/My Drive/wiki_zh/AG/wiki_93', '/content/drive/My Drive/wiki_zh/AG/wiki_58', '/content/drive/My Drive/wiki_zh/AG/wiki_94', '/content/drive/My Drive/wiki_zh/AG/wiki_60', '/content/drive/My Drive/wiki_zh/AG/wiki_56', '/content/drive/My Drive/wiki_zh/AG/wiki_69', '/content/drive/My Drive/wiki_zh/AG/wiki_51', '/content/drive/My Drive/wiki_zh/AG/wiki_15', '/content/drive/My Drive/wiki_zh/AG/wiki_12', '/content/drive/My Drive/wiki_zh/AG/wiki_24', '/content/drive/My Drive/wiki_zh/AG/wiki_23', '/content/drive/My Drive/wiki_zh/AG/wiki_48', '/content/drive/My Drive/wiki_zh/AG/wiki_83', '/content/drive/My Drive/wiki_zh/AG/wiki_77', '/content/drive/My Drive/wiki_zh/AG/wiki_70', '/content/drive/My Drive/wiki_zh/AG/wiki_84', '/content/drive/My Drive/wiki_zh/AG/wiki_79', '/content/drive/My Drive/wiki_zh/AG/wiki_46', '/content/drive/My Drive/wiki_zh/AG/wiki_41', '/content/drive/My Drive/wiki_zh/AG/wiki_22', '/content/drive/My Drive/wiki_zh/AG/wiki_25', '/content/drive/My Drive/wiki_zh/AG/wiki_13', '/content/drive/My Drive/wiki_zh/AG/wiki_14', '/content/drive/My Drive/wiki_zh/AG/wiki_40', '/content/drive/My Drive/wiki_zh/AG/wiki_78', '/content/drive/My Drive/wiki_zh/AG/wiki_47', '/content/drive/My Drive/wiki_zh/AG/wiki_85', '/content/drive/My Drive/wiki_zh/AG/wiki_71', '/content/drive/My Drive/wiki_zh/AG/wiki_49', '/content/drive/My Drive/wiki_zh/AG/wiki_76', '/content/drive/My Drive/wiki_zh/AG/wiki_82', '/content/drive/My Drive/wiki_zh/AG/wiki_54', '/content/drive/My Drive/wiki_zh/AG/wiki_53', '/content/drive/My Drive/wiki_zh/AG/wiki_98', '/content/drive/My Drive/wiki_zh/AG/wiki_91', '/content/drive/My Drive/wiki_zh/AG/wiki_65', '/content/drive/My Drive/wiki_zh/AG/wiki_62', '/content/drive/My Drive/wiki_zh/AG/wiki_96', '/content/drive/My Drive/wiki_zh/AG/wiki_09', '/content/drive/My Drive/wiki_zh/AG/wiki_36', '/content/drive/My Drive/wiki_zh/AG/wiki_31', '/content/drive/My Drive/wiki_zh/AG/wiki_38', '/content/drive/My Drive/wiki_zh/AG/wiki_07', '/content/drive/My Drive/wiki_zh/AG/wiki_00', '/content/drive/My Drive/wiki_zh/AG/wiki_97', '/content/drive/My Drive/wiki_zh/AG/wiki_63', '/content/drive/My Drive/wiki_zh/AG/wiki_64', '/content/drive/My Drive/wiki_zh/AG/wiki_90', '/content/drive/My Drive/wiki_zh/AG/wiki_52', '/content/drive/My Drive/wiki_zh/AG/wiki_99', '/content/drive/My Drive/wiki_zh/AG/wiki_55', '/content/drive/My Drive/wiki_zh/AG/wiki_01', '/content/drive/My Drive/wiki_zh/AG/wiki_39', '/content/drive/My Drive/wiki_zh/AG/wiki_06', '/content/drive/My Drive/wiki_zh/AG/wiki_30', '/content/drive/My Drive/wiki_zh/AG/wiki_08', '/content/drive/My Drive/wiki_zh/AG/wiki_37', '/content/drive/My Drive/wiki_zh/AC/wiki_73', '/content/drive/My Drive/wiki_zh/AC/wiki_87', '/content/drive/My Drive/wiki_zh/AC/wiki_80', '/content/drive/My Drive/wiki_zh/AC/wiki_74', '/content/drive/My Drive/wiki_zh/AC/wiki_89', '/content/drive/My Drive/wiki_zh/AC/wiki_42', '/content/drive/My Drive/wiki_zh/AC/wiki_45', '/content/drive/My Drive/wiki_zh/AC/wiki_11', '/content/drive/My Drive/wiki_zh/AC/wiki_16', '/content/drive/My Drive/wiki_zh/AC/wiki_29', '/content/drive/My Drive/wiki_zh/AC/wiki_20', '/content/drive/My Drive/wiki_zh/AC/wiki_27', '/content/drive/My Drive/wiki_zh/AC/wiki_18', '/content/drive/My Drive/wiki_zh/AC/wiki_44', '/content/drive/My Drive/wiki_zh/AC/wiki_88', '/content/drive/My Drive/wiki_zh/AC/wiki_43', '/content/drive/My Drive/wiki_zh/AC/wiki_75', '/content/drive/My Drive/wiki_zh/AC/wiki_81', '/content/drive/My Drive/wiki_zh/AC/wiki_86', '/content/drive/My Drive/wiki_zh/AC/wiki_72', '/content/drive/My Drive/wiki_zh/AC/wiki_26', '/content/drive/My Drive/wiki_zh/AC/wiki_19', '/content/drive/My Drive/wiki_zh/AC/wiki_21', '/content/drive/My Drive/wiki_zh/AC/wiki_17', '/content/drive/My Drive/wiki_zh/AC/wiki_28', '/content/drive/My Drive/wiki_zh/AC/wiki_10', '/content/drive/My Drive/wiki_zh/AC/wiki_32', '/content/drive/My Drive/wiki_zh/AC/wiki_35', '/content/drive/My Drive/wiki_zh/AC/wiki_03', '/content/drive/My Drive/wiki_zh/AC/wiki_04', '/content/drive/My Drive/wiki_zh/AC/wiki_50', '/content/drive/My Drive/wiki_zh/AC/wiki_57', '/content/drive/My Drive/wiki_zh/AC/wiki_68', '/content/drive/My Drive/wiki_zh/AC/wiki_61', '/content/drive/My Drive/wiki_zh/AC/wiki_95', '/content/drive/My Drive/wiki_zh/AC/wiki_92', '/content/drive/My Drive/wiki_zh/AC/wiki_66', '/content/drive/My Drive/wiki_zh/AC/wiki_59', '/content/drive/My Drive/wiki_zh/AC/wiki_05', '/content/drive/My Drive/wiki_zh/AC/wiki_02', '/content/drive/My Drive/wiki_zh/AC/wiki_34', '/content/drive/My Drive/wiki_zh/AC/wiki_33', '/content/drive/My Drive/wiki_zh/AC/wiki_67', '/content/drive/My Drive/wiki_zh/AC/wiki_93', '/content/drive/My Drive/wiki_zh/AC/wiki_58', '/content/drive/My Drive/wiki_zh/AC/wiki_94', '/content/drive/My Drive/wiki_zh/AC/wiki_60', '/content/drive/My Drive/wiki_zh/AC/wiki_56', '/content/drive/My Drive/wiki_zh/AC/wiki_69', '/content/drive/My Drive/wiki_zh/AC/wiki_51', '/content/drive/My Drive/wiki_zh/AC/wiki_15', '/content/drive/My Drive/wiki_zh/AC/wiki_12', '/content/drive/My Drive/wiki_zh/AC/wiki_24', '/content/drive/My Drive/wiki_zh/AC/wiki_23', '/content/drive/My Drive/wiki_zh/AC/wiki_48', '/content/drive/My Drive/wiki_zh/AC/wiki_83', '/content/drive/My Drive/wiki_zh/AC/wiki_77', '/content/drive/My Drive/wiki_zh/AC/wiki_70', '/content/drive/My Drive/wiki_zh/AC/wiki_84', '/content/drive/My Drive/wiki_zh/AC/wiki_79', '/content/drive/My Drive/wiki_zh/AC/wiki_46', '/content/drive/My Drive/wiki_zh/AC/wiki_41', '/content/drive/My Drive/wiki_zh/AC/wiki_22', '/content/drive/My Drive/wiki_zh/AC/wiki_25', '/content/drive/My Drive/wiki_zh/AC/wiki_13', '/content/drive/My Drive/wiki_zh/AC/wiki_14', '/content/drive/My Drive/wiki_zh/AC/wiki_40', '/content/drive/My Drive/wiki_zh/AC/wiki_78', '/content/drive/My Drive/wiki_zh/AC/wiki_47', '/content/drive/My Drive/wiki_zh/AC/wiki_85', '/content/drive/My Drive/wiki_zh/AC/wiki_71', '/content/drive/My Drive/wiki_zh/AC/wiki_49', '/content/drive/My Drive/wiki_zh/AC/wiki_76', '/content/drive/My Drive/wiki_zh/AC/wiki_82', '/content/drive/My Drive/wiki_zh/AC/wiki_54', '/content/drive/My Drive/wiki_zh/AC/wiki_53', '/content/drive/My Drive/wiki_zh/AC/wiki_98', '/content/drive/My Drive/wiki_zh/AC/wiki_91', '/content/drive/My Drive/wiki_zh/AC/wiki_65', '/content/drive/My Drive/wiki_zh/AC/wiki_62', '/content/drive/My Drive/wiki_zh/AC/wiki_96', '/content/drive/My Drive/wiki_zh/AC/wiki_09', '/content/drive/My Drive/wiki_zh/AC/wiki_36', '/content/drive/My Drive/wiki_zh/AC/wiki_31', '/content/drive/My Drive/wiki_zh/AC/wiki_38', '/content/drive/My Drive/wiki_zh/AC/wiki_07', '/content/drive/My Drive/wiki_zh/AC/wiki_00', '/content/drive/My Drive/wiki_zh/AC/wiki_97', '/content/drive/My Drive/wiki_zh/AC/wiki_63', '/content/drive/My Drive/wiki_zh/AC/wiki_64', '/content/drive/My Drive/wiki_zh/AC/wiki_90', '/content/drive/My Drive/wiki_zh/AC/wiki_52', '/content/drive/My Drive/wiki_zh/AC/wiki_99', '/content/drive/My Drive/wiki_zh/AC/wiki_55', '/content/drive/My Drive/wiki_zh/AC/wiki_01', '/content/drive/My Drive/wiki_zh/AC/wiki_39', '/content/drive/My Drive/wiki_zh/AC/wiki_06', '/content/drive/My Drive/wiki_zh/AC/wiki_30', '/content/drive/My Drive/wiki_zh/AC/wiki_08', '/content/drive/My Drive/wiki_zh/AC/wiki_37', '/content/drive/My Drive/wiki_zh/AE/wiki_73', '/content/drive/My Drive/wiki_zh/AE/wiki_87', '/content/drive/My Drive/wiki_zh/AE/wiki_80', '/content/drive/My Drive/wiki_zh/AE/wiki_74', '/content/drive/My Drive/wiki_zh/AE/wiki_89', '/content/drive/My Drive/wiki_zh/AE/wiki_42', '/content/drive/My Drive/wiki_zh/AE/wiki_45', '/content/drive/My Drive/wiki_zh/AE/wiki_11', '/content/drive/My Drive/wiki_zh/AE/wiki_16', '/content/drive/My Drive/wiki_zh/AE/wiki_29', '/content/drive/My Drive/wiki_zh/AE/wiki_20', '/content/drive/My Drive/wiki_zh/AE/wiki_27', '/content/drive/My Drive/wiki_zh/AE/wiki_18', '/content/drive/My Drive/wiki_zh/AE/wiki_44', '/content/drive/My Drive/wiki_zh/AE/wiki_88', '/content/drive/My Drive/wiki_zh/AE/wiki_43', '/content/drive/My Drive/wiki_zh/AE/wiki_75', '/content/drive/My Drive/wiki_zh/AE/wiki_81', '/content/drive/My Drive/wiki_zh/AE/wiki_86', '/content/drive/My Drive/wiki_zh/AE/wiki_72', '/content/drive/My Drive/wiki_zh/AE/wiki_26', '/content/drive/My Drive/wiki_zh/AE/wiki_19', '/content/drive/My Drive/wiki_zh/AE/wiki_21', '/content/drive/My Drive/wiki_zh/AE/wiki_17', '/content/drive/My Drive/wiki_zh/AE/wiki_28', '/content/drive/My Drive/wiki_zh/AE/wiki_10', '/content/drive/My Drive/wiki_zh/AE/wiki_32', '/content/drive/My Drive/wiki_zh/AE/wiki_35', '/content/drive/My Drive/wiki_zh/AE/wiki_03', '/content/drive/My Drive/wiki_zh/AE/wiki_04', '/content/drive/My Drive/wiki_zh/AE/wiki_50', '/content/drive/My Drive/wiki_zh/AE/wiki_57', '/content/drive/My Drive/wiki_zh/AE/wiki_68', '/content/drive/My Drive/wiki_zh/AE/wiki_61', '/content/drive/My Drive/wiki_zh/AE/wiki_95', '/content/drive/My Drive/wiki_zh/AE/wiki_92', '/content/drive/My Drive/wiki_zh/AE/wiki_66', '/content/drive/My Drive/wiki_zh/AE/wiki_59', '/content/drive/My Drive/wiki_zh/AE/wiki_05', '/content/drive/My Drive/wiki_zh/AE/wiki_02', '/content/drive/My Drive/wiki_zh/AE/wiki_34', '/content/drive/My Drive/wiki_zh/AE/wiki_33', '/content/drive/My Drive/wiki_zh/AE/wiki_67', '/content/drive/My Drive/wiki_zh/AE/wiki_93', '/content/drive/My Drive/wiki_zh/AE/wiki_58', '/content/drive/My Drive/wiki_zh/AE/wiki_94', '/content/drive/My Drive/wiki_zh/AE/wiki_60', '/content/drive/My Drive/wiki_zh/AE/wiki_56', '/content/drive/My Drive/wiki_zh/AE/wiki_69', '/content/drive/My Drive/wiki_zh/AE/wiki_51', '/content/drive/My Drive/wiki_zh/AE/wiki_15', '/content/drive/My Drive/wiki_zh/AE/wiki_12', '/content/drive/My Drive/wiki_zh/AE/wiki_24', '/content/drive/My Drive/wiki_zh/AE/wiki_23', '/content/drive/My Drive/wiki_zh/AE/wiki_48', '/content/drive/My Drive/wiki_zh/AE/wiki_83', '/content/drive/My Drive/wiki_zh/AE/wiki_77', '/content/drive/My Drive/wiki_zh/AE/wiki_70', '/content/drive/My Drive/wiki_zh/AE/wiki_84', '/content/drive/My Drive/wiki_zh/AE/wiki_79', '/content/drive/My Drive/wiki_zh/AE/wiki_46', '/content/drive/My Drive/wiki_zh/AE/wiki_41', '/content/drive/My Drive/wiki_zh/AE/wiki_22', '/content/drive/My Drive/wiki_zh/AE/wiki_25', '/content/drive/My Drive/wiki_zh/AE/wiki_13', '/content/drive/My Drive/wiki_zh/AE/wiki_14', '/content/drive/My Drive/wiki_zh/AE/wiki_40', '/content/drive/My Drive/wiki_zh/AE/wiki_78', '/content/drive/My Drive/wiki_zh/AE/wiki_47', '/content/drive/My Drive/wiki_zh/AE/wiki_85', '/content/drive/My Drive/wiki_zh/AE/wiki_71', '/content/drive/My Drive/wiki_zh/AE/wiki_49', '/content/drive/My Drive/wiki_zh/AE/wiki_76', '/content/drive/My Drive/wiki_zh/AE/wiki_82', '/content/drive/My Drive/wiki_zh/AE/wiki_54', '/content/drive/My Drive/wiki_zh/AE/wiki_53', '/content/drive/My Drive/wiki_zh/AE/wiki_98', '/content/drive/My Drive/wiki_zh/AE/wiki_91', '/content/drive/My Drive/wiki_zh/AE/wiki_65', '/content/drive/My Drive/wiki_zh/AE/wiki_62', '/content/drive/My Drive/wiki_zh/AE/wiki_96', '/content/drive/My Drive/wiki_zh/AE/wiki_09', '/content/drive/My Drive/wiki_zh/AE/wiki_36', '/content/drive/My Drive/wiki_zh/AE/wiki_31', '/content/drive/My Drive/wiki_zh/AE/wiki_38', '/content/drive/My Drive/wiki_zh/AE/wiki_07', '/content/drive/My Drive/wiki_zh/AE/wiki_00', '/content/drive/My Drive/wiki_zh/AE/wiki_97', '/content/drive/My Drive/wiki_zh/AE/wiki_63', '/content/drive/My Drive/wiki_zh/AE/wiki_64', '/content/drive/My Drive/wiki_zh/AE/wiki_90', '/content/drive/My Drive/wiki_zh/AE/wiki_52', '/content/drive/My Drive/wiki_zh/AE/wiki_99', '/content/drive/My Drive/wiki_zh/AE/wiki_55', '/content/drive/My Drive/wiki_zh/AE/wiki_01', '/content/drive/My Drive/wiki_zh/AE/wiki_39', '/content/drive/My Drive/wiki_zh/AE/wiki_06', '/content/drive/My Drive/wiki_zh/AE/wiki_30', '/content/drive/My Drive/wiki_zh/AE/wiki_08', '/content/drive/My Drive/wiki_zh/AE/wiki_37', '/content/drive/My Drive/wiki_zh/AI/wiki_73', '/content/drive/My Drive/wiki_zh/AI/wiki_87', '/content/drive/My Drive/wiki_zh/AI/wiki_80', '/content/drive/My Drive/wiki_zh/AI/wiki_74', '/content/drive/My Drive/wiki_zh/AI/wiki_89', '/content/drive/My Drive/wiki_zh/AI/wiki_42', '/content/drive/My Drive/wiki_zh/AI/wiki_45', '/content/drive/My Drive/wiki_zh/AI/wiki_11', '/content/drive/My Drive/wiki_zh/AI/wiki_16', '/content/drive/My Drive/wiki_zh/AI/wiki_29', '/content/drive/My Drive/wiki_zh/AI/wiki_20', '/content/drive/My Drive/wiki_zh/AI/wiki_27', '/content/drive/My Drive/wiki_zh/AI/wiki_18', '/content/drive/My Drive/wiki_zh/AI/wiki_44', '/content/drive/My Drive/wiki_zh/AI/wiki_88', '/content/drive/My Drive/wiki_zh/AI/wiki_43', '/content/drive/My Drive/wiki_zh/AI/wiki_75', '/content/drive/My Drive/wiki_zh/AI/wiki_81', '/content/drive/My Drive/wiki_zh/AI/wiki_86', '/content/drive/My Drive/wiki_zh/AI/wiki_72', '/content/drive/My Drive/wiki_zh/AI/wiki_26', '/content/drive/My Drive/wiki_zh/AI/wiki_19', '/content/drive/My Drive/wiki_zh/AI/wiki_21', '/content/drive/My Drive/wiki_zh/AI/wiki_17', '/content/drive/My Drive/wiki_zh/AI/wiki_28', '/content/drive/My Drive/wiki_zh/AI/wiki_10', '/content/drive/My Drive/wiki_zh/AI/wiki_32', '/content/drive/My Drive/wiki_zh/AI/wiki_35', '/content/drive/My Drive/wiki_zh/AI/wiki_03', '/content/drive/My Drive/wiki_zh/AI/wiki_04', '/content/drive/My Drive/wiki_zh/AI/wiki_50', '/content/drive/My Drive/wiki_zh/AI/wiki_57', '/content/drive/My Drive/wiki_zh/AI/wiki_68', '/content/drive/My Drive/wiki_zh/AI/wiki_61', '/content/drive/My Drive/wiki_zh/AI/wiki_95', '/content/drive/My Drive/wiki_zh/AI/wiki_92', '/content/drive/My Drive/wiki_zh/AI/wiki_66', '/content/drive/My Drive/wiki_zh/AI/wiki_59', '/content/drive/My Drive/wiki_zh/AI/wiki_05', '/content/drive/My Drive/wiki_zh/AI/wiki_02', '/content/drive/My Drive/wiki_zh/AI/wiki_34', '/content/drive/My Drive/wiki_zh/AI/wiki_33', '/content/drive/My Drive/wiki_zh/AI/wiki_67', '/content/drive/My Drive/wiki_zh/AI/wiki_93', '/content/drive/My Drive/wiki_zh/AI/wiki_58', '/content/drive/My Drive/wiki_zh/AI/wiki_94', '/content/drive/My Drive/wiki_zh/AI/wiki_60', '/content/drive/My Drive/wiki_zh/AI/wiki_56', '/content/drive/My Drive/wiki_zh/AI/wiki_69', '/content/drive/My Drive/wiki_zh/AI/wiki_51', '/content/drive/My Drive/wiki_zh/AI/wiki_15', '/content/drive/My Drive/wiki_zh/AI/wiki_12', '/content/drive/My Drive/wiki_zh/AI/wiki_24', '/content/drive/My Drive/wiki_zh/AI/wiki_23', '/content/drive/My Drive/wiki_zh/AI/wiki_48', '/content/drive/My Drive/wiki_zh/AI/wiki_83', '/content/drive/My Drive/wiki_zh/AI/wiki_77', '/content/drive/My Drive/wiki_zh/AI/wiki_70', '/content/drive/My Drive/wiki_zh/AI/wiki_84', '/content/drive/My Drive/wiki_zh/AI/wiki_79', '/content/drive/My Drive/wiki_zh/AI/wiki_46', '/content/drive/My Drive/wiki_zh/AI/wiki_41', '/content/drive/My Drive/wiki_zh/AI/wiki_22', '/content/drive/My Drive/wiki_zh/AI/wiki_25', '/content/drive/My Drive/wiki_zh/AI/wiki_13', '/content/drive/My Drive/wiki_zh/AI/wiki_14', '/content/drive/My Drive/wiki_zh/AI/wiki_40', '/content/drive/My Drive/wiki_zh/AI/wiki_78', '/content/drive/My Drive/wiki_zh/AI/wiki_47', '/content/drive/My Drive/wiki_zh/AI/wiki_85', '/content/drive/My Drive/wiki_zh/AI/wiki_71', '/content/drive/My Drive/wiki_zh/AI/wiki_49', '/content/drive/My Drive/wiki_zh/AI/wiki_76', '/content/drive/My Drive/wiki_zh/AI/wiki_82', '/content/drive/My Drive/wiki_zh/AI/wiki_54', '/content/drive/My Drive/wiki_zh/AI/wiki_53', '/content/drive/My Drive/wiki_zh/AI/wiki_98', '/content/drive/My Drive/wiki_zh/AI/wiki_91', '/content/drive/My Drive/wiki_zh/AI/wiki_65', '/content/drive/My Drive/wiki_zh/AI/wiki_62', '/content/drive/My Drive/wiki_zh/AI/wiki_96', '/content/drive/My Drive/wiki_zh/AI/wiki_09', '/content/drive/My Drive/wiki_zh/AI/wiki_36', '/content/drive/My Drive/wiki_zh/AI/wiki_31', '/content/drive/My Drive/wiki_zh/AI/wiki_38', '/content/drive/My Drive/wiki_zh/AI/wiki_07', '/content/drive/My Drive/wiki_zh/AI/wiki_00', '/content/drive/My Drive/wiki_zh/AI/wiki_97', '/content/drive/My Drive/wiki_zh/AI/wiki_63', '/content/drive/My Drive/wiki_zh/AI/wiki_64', '/content/drive/My Drive/wiki_zh/AI/wiki_90', '/content/drive/My Drive/wiki_zh/AI/wiki_52', '/content/drive/My Drive/wiki_zh/AI/wiki_99', '/content/drive/My Drive/wiki_zh/AI/wiki_55', '/content/drive/My Drive/wiki_zh/AI/wiki_01', '/content/drive/My Drive/wiki_zh/AI/wiki_39', '/content/drive/My Drive/wiki_zh/AI/wiki_06', '/content/drive/My Drive/wiki_zh/AI/wiki_30', '/content/drive/My Drive/wiki_zh/AI/wiki_08', '/content/drive/My Drive/wiki_zh/AI/wiki_37', '/content/drive/My Drive/wiki_zh/AL/wiki_73', '/content/drive/My Drive/wiki_zh/AL/wiki_87', '/content/drive/My Drive/wiki_zh/AL/wiki_80', '/content/drive/My Drive/wiki_zh/AL/wiki_74', '/content/drive/My Drive/wiki_zh/AL/wiki_89', '/content/drive/My Drive/wiki_zh/AL/wiki_42', '/content/drive/My Drive/wiki_zh/AL/wiki_45', '/content/drive/My Drive/wiki_zh/AL/wiki_11', '/content/drive/My Drive/wiki_zh/AL/wiki_16', '/content/drive/My Drive/wiki_zh/AL/wiki_29', '/content/drive/My Drive/wiki_zh/AL/wiki_20', '/content/drive/My Drive/wiki_zh/AL/wiki_27', '/content/drive/My Drive/wiki_zh/AL/wiki_18', '/content/drive/My Drive/wiki_zh/AL/wiki_44', '/content/drive/My Drive/wiki_zh/AL/wiki_88', '/content/drive/My Drive/wiki_zh/AL/wiki_43', '/content/drive/My Drive/wiki_zh/AL/wiki_75', '/content/drive/My Drive/wiki_zh/AL/wiki_81', '/content/drive/My Drive/wiki_zh/AL/wiki_86', '/content/drive/My Drive/wiki_zh/AL/wiki_72', '/content/drive/My Drive/wiki_zh/AL/wiki_26', '/content/drive/My Drive/wiki_zh/AL/wiki_19', '/content/drive/My Drive/wiki_zh/AL/wiki_21', '/content/drive/My Drive/wiki_zh/AL/wiki_17', '/content/drive/My Drive/wiki_zh/AL/wiki_28', '/content/drive/My Drive/wiki_zh/AL/wiki_10', '/content/drive/My Drive/wiki_zh/AL/wiki_32', '/content/drive/My Drive/wiki_zh/AL/wiki_35', '/content/drive/My Drive/wiki_zh/AL/wiki_03', '/content/drive/My Drive/wiki_zh/AL/wiki_04', '/content/drive/My Drive/wiki_zh/AL/wiki_50', '/content/drive/My Drive/wiki_zh/AL/wiki_57', '/content/drive/My Drive/wiki_zh/AL/wiki_68', '/content/drive/My Drive/wiki_zh/AL/wiki_61', '/content/drive/My Drive/wiki_zh/AL/wiki_95', '/content/drive/My Drive/wiki_zh/AL/wiki_92', '/content/drive/My Drive/wiki_zh/AL/wiki_66', '/content/drive/My Drive/wiki_zh/AL/wiki_59', '/content/drive/My Drive/wiki_zh/AL/wiki_05', '/content/drive/My Drive/wiki_zh/AL/wiki_02', '/content/drive/My Drive/wiki_zh/AL/wiki_34', '/content/drive/My Drive/wiki_zh/AL/wiki_33', '/content/drive/My Drive/wiki_zh/AL/wiki_67', '/content/drive/My Drive/wiki_zh/AL/wiki_93', '/content/drive/My Drive/wiki_zh/AL/wiki_58', '/content/drive/My Drive/wiki_zh/AL/wiki_94', '/content/drive/My Drive/wiki_zh/AL/wiki_60', '/content/drive/My Drive/wiki_zh/AL/wiki_56', '/content/drive/My Drive/wiki_zh/AL/wiki_69', '/content/drive/My Drive/wiki_zh/AL/wiki_51', '/content/drive/My Drive/wiki_zh/AL/wiki_15', '/content/drive/My Drive/wiki_zh/AL/wiki_12', '/content/drive/My Drive/wiki_zh/AL/wiki_24', '/content/drive/My Drive/wiki_zh/AL/wiki_23', '/content/drive/My Drive/wiki_zh/AL/wiki_48', '/content/drive/My Drive/wiki_zh/AL/wiki_83', '/content/drive/My Drive/wiki_zh/AL/wiki_77', '/content/drive/My Drive/wiki_zh/AL/wiki_70', '/content/drive/My Drive/wiki_zh/AL/wiki_84', '/content/drive/My Drive/wiki_zh/AL/wiki_79', '/content/drive/My Drive/wiki_zh/AL/wiki_46', '/content/drive/My Drive/wiki_zh/AL/wiki_41', '/content/drive/My Drive/wiki_zh/AL/wiki_22', '/content/drive/My Drive/wiki_zh/AL/wiki_25', '/content/drive/My Drive/wiki_zh/AL/wiki_13', '/content/drive/My Drive/wiki_zh/AL/wiki_14', '/content/drive/My Drive/wiki_zh/AL/wiki_40', '/content/drive/My Drive/wiki_zh/AL/wiki_78', '/content/drive/My Drive/wiki_zh/AL/wiki_47', '/content/drive/My Drive/wiki_zh/AL/wiki_85', '/content/drive/My Drive/wiki_zh/AL/wiki_71', '/content/drive/My Drive/wiki_zh/AL/wiki_49', '/content/drive/My Drive/wiki_zh/AL/wiki_76', '/content/drive/My Drive/wiki_zh/AL/wiki_82', '/content/drive/My Drive/wiki_zh/AL/wiki_54', '/content/drive/My Drive/wiki_zh/AL/wiki_53', '/content/drive/My Drive/wiki_zh/AL/wiki_98', '/content/drive/My Drive/wiki_zh/AL/wiki_91', '/content/drive/My Drive/wiki_zh/AL/wiki_65', '/content/drive/My Drive/wiki_zh/AL/wiki_62', '/content/drive/My Drive/wiki_zh/AL/wiki_96', '/content/drive/My Drive/wiki_zh/AL/wiki_09', '/content/drive/My Drive/wiki_zh/AL/wiki_36', '/content/drive/My Drive/wiki_zh/AL/wiki_31', '/content/drive/My Drive/wiki_zh/AL/wiki_38', '/content/drive/My Drive/wiki_zh/AL/wiki_07', '/content/drive/My Drive/wiki_zh/AL/wiki_00', '/content/drive/My Drive/wiki_zh/AL/wiki_97', '/content/drive/My Drive/wiki_zh/AL/wiki_63', '/content/drive/My Drive/wiki_zh/AL/wiki_64', '/content/drive/My Drive/wiki_zh/AL/wiki_90', '/content/drive/My Drive/wiki_zh/AL/wiki_52', '/content/drive/My Drive/wiki_zh/AL/wiki_99', '/content/drive/My Drive/wiki_zh/AL/wiki_55', '/content/drive/My Drive/wiki_zh/AL/wiki_01', '/content/drive/My Drive/wiki_zh/AL/wiki_39', '/content/drive/My Drive/wiki_zh/AL/wiki_06', '/content/drive/My Drive/wiki_zh/AL/wiki_30', '/content/drive/My Drive/wiki_zh/AL/wiki_08', '/content/drive/My Drive/wiki_zh/AL/wiki_37', '/content/drive/My Drive/wiki_zh/AK/wiki_73', '/content/drive/My Drive/wiki_zh/AK/wiki_87', '/content/drive/My Drive/wiki_zh/AK/wiki_80', '/content/drive/My Drive/wiki_zh/AK/wiki_74', '/content/drive/My Drive/wiki_zh/AK/wiki_89', '/content/drive/My Drive/wiki_zh/AK/wiki_42', '/content/drive/My Drive/wiki_zh/AK/wiki_45', '/content/drive/My Drive/wiki_zh/AK/wiki_11', '/content/drive/My Drive/wiki_zh/AK/wiki_16', '/content/drive/My Drive/wiki_zh/AK/wiki_29', '/content/drive/My Drive/wiki_zh/AK/wiki_20', '/content/drive/My Drive/wiki_zh/AK/wiki_27', '/content/drive/My Drive/wiki_zh/AK/wiki_18', '/content/drive/My Drive/wiki_zh/AK/wiki_44', '/content/drive/My Drive/wiki_zh/AK/wiki_88', '/content/drive/My Drive/wiki_zh/AK/wiki_43', '/content/drive/My Drive/wiki_zh/AK/wiki_75', '/content/drive/My Drive/wiki_zh/AK/wiki_81', '/content/drive/My Drive/wiki_zh/AK/wiki_86', '/content/drive/My Drive/wiki_zh/AK/wiki_72', '/content/drive/My Drive/wiki_zh/AK/wiki_26', '/content/drive/My Drive/wiki_zh/AK/wiki_19', '/content/drive/My Drive/wiki_zh/AK/wiki_21', '/content/drive/My Drive/wiki_zh/AK/wiki_17', '/content/drive/My Drive/wiki_zh/AK/wiki_28', '/content/drive/My Drive/wiki_zh/AK/wiki_10', '/content/drive/My Drive/wiki_zh/AK/wiki_32', '/content/drive/My Drive/wiki_zh/AK/wiki_35', '/content/drive/My Drive/wiki_zh/AK/wiki_03', '/content/drive/My Drive/wiki_zh/AK/wiki_04', '/content/drive/My Drive/wiki_zh/AK/wiki_50', '/content/drive/My Drive/wiki_zh/AK/wiki_57', '/content/drive/My Drive/wiki_zh/AK/wiki_68', '/content/drive/My Drive/wiki_zh/AK/wiki_61', '/content/drive/My Drive/wiki_zh/AK/wiki_95', '/content/drive/My Drive/wiki_zh/AK/wiki_92', '/content/drive/My Drive/wiki_zh/AK/wiki_66', '/content/drive/My Drive/wiki_zh/AK/wiki_59', '/content/drive/My Drive/wiki_zh/AK/wiki_05', '/content/drive/My Drive/wiki_zh/AK/wiki_02', '/content/drive/My Drive/wiki_zh/AK/wiki_34', '/content/drive/My Drive/wiki_zh/AK/wiki_33', '/content/drive/My Drive/wiki_zh/AK/wiki_67', '/content/drive/My Drive/wiki_zh/AK/wiki_93', '/content/drive/My Drive/wiki_zh/AK/wiki_58', '/content/drive/My Drive/wiki_zh/AK/wiki_94', '/content/drive/My Drive/wiki_zh/AK/wiki_60', '/content/drive/My Drive/wiki_zh/AK/wiki_56', '/content/drive/My Drive/wiki_zh/AK/wiki_69', '/content/drive/My Drive/wiki_zh/AK/wiki_51', '/content/drive/My Drive/wiki_zh/AK/wiki_15', '/content/drive/My Drive/wiki_zh/AK/wiki_12', '/content/drive/My Drive/wiki_zh/AK/wiki_24', '/content/drive/My Drive/wiki_zh/AK/wiki_23', '/content/drive/My Drive/wiki_zh/AK/wiki_48', '/content/drive/My Drive/wiki_zh/AK/wiki_83', '/content/drive/My Drive/wiki_zh/AK/wiki_77', '/content/drive/My Drive/wiki_zh/AK/wiki_70', '/content/drive/My Drive/wiki_zh/AK/wiki_84', '/content/drive/My Drive/wiki_zh/AK/wiki_79', '/content/drive/My Drive/wiki_zh/AK/wiki_46', '/content/drive/My Drive/wiki_zh/AK/wiki_41', '/content/drive/My Drive/wiki_zh/AK/wiki_22', '/content/drive/My Drive/wiki_zh/AK/wiki_25', '/content/drive/My Drive/wiki_zh/AK/wiki_13', '/content/drive/My Drive/wiki_zh/AK/wiki_14', '/content/drive/My Drive/wiki_zh/AK/wiki_40', '/content/drive/My Drive/wiki_zh/AK/wiki_78', '/content/drive/My Drive/wiki_zh/AK/wiki_47', '/content/drive/My Drive/wiki_zh/AK/wiki_85', '/content/drive/My Drive/wiki_zh/AK/wiki_71', '/content/drive/My Drive/wiki_zh/AK/wiki_49', '/content/drive/My Drive/wiki_zh/AK/wiki_76', '/content/drive/My Drive/wiki_zh/AK/wiki_82', '/content/drive/My Drive/wiki_zh/AK/wiki_54', '/content/drive/My Drive/wiki_zh/AK/wiki_53', '/content/drive/My Drive/wiki_zh/AK/wiki_98', '/content/drive/My Drive/wiki_zh/AK/wiki_91', '/content/drive/My Drive/wiki_zh/AK/wiki_65', '/content/drive/My Drive/wiki_zh/AK/wiki_62', '/content/drive/My Drive/wiki_zh/AK/wiki_96', '/content/drive/My Drive/wiki_zh/AK/wiki_09', '/content/drive/My Drive/wiki_zh/AK/wiki_36', '/content/drive/My Drive/wiki_zh/AK/wiki_31', '/content/drive/My Drive/wiki_zh/AK/wiki_38', '/content/drive/My Drive/wiki_zh/AK/wiki_07', '/content/drive/My Drive/wiki_zh/AK/wiki_00', '/content/drive/My Drive/wiki_zh/AK/wiki_97', '/content/drive/My Drive/wiki_zh/AK/wiki_63', '/content/drive/My Drive/wiki_zh/AK/wiki_64', '/content/drive/My Drive/wiki_zh/AK/wiki_90', '/content/drive/My Drive/wiki_zh/AK/wiki_52', '/content/drive/My Drive/wiki_zh/AK/wiki_99', '/content/drive/My Drive/wiki_zh/AK/wiki_55', '/content/drive/My Drive/wiki_zh/AK/wiki_01', '/content/drive/My Drive/wiki_zh/AK/wiki_39', '/content/drive/My Drive/wiki_zh/AK/wiki_06', '/content/drive/My Drive/wiki_zh/AK/wiki_30', '/content/drive/My Drive/wiki_zh/AK/wiki_08', '/content/drive/My Drive/wiki_zh/AK/wiki_37', '/content/drive/My Drive/wiki_zh/AJ/wiki_73', '/content/drive/My Drive/wiki_zh/AJ/wiki_87', '/content/drive/My Drive/wiki_zh/AJ/wiki_80', '/content/drive/My Drive/wiki_zh/AJ/wiki_74', '/content/drive/My Drive/wiki_zh/AJ/wiki_89', '/content/drive/My Drive/wiki_zh/AJ/wiki_42', '/content/drive/My Drive/wiki_zh/AJ/wiki_45', '/content/drive/My Drive/wiki_zh/AJ/wiki_11', '/content/drive/My Drive/wiki_zh/AJ/wiki_16', '/content/drive/My Drive/wiki_zh/AJ/wiki_29', '/content/drive/My Drive/wiki_zh/AJ/wiki_20', '/content/drive/My Drive/wiki_zh/AJ/wiki_27', '/content/drive/My Drive/wiki_zh/AJ/wiki_18', '/content/drive/My Drive/wiki_zh/AJ/wiki_44', '/content/drive/My Drive/wiki_zh/AJ/wiki_88', '/content/drive/My Drive/wiki_zh/AJ/wiki_43', '/content/drive/My Drive/wiki_zh/AJ/wiki_75', '/content/drive/My Drive/wiki_zh/AJ/wiki_81', '/content/drive/My Drive/wiki_zh/AJ/wiki_86', '/content/drive/My Drive/wiki_zh/AJ/wiki_72', '/content/drive/My Drive/wiki_zh/AJ/wiki_26', '/content/drive/My Drive/wiki_zh/AJ/wiki_19', '/content/drive/My Drive/wiki_zh/AJ/wiki_21', '/content/drive/My Drive/wiki_zh/AJ/wiki_17', '/content/drive/My Drive/wiki_zh/AJ/wiki_28', '/content/drive/My Drive/wiki_zh/AJ/wiki_10', '/content/drive/My Drive/wiki_zh/AJ/wiki_32', '/content/drive/My Drive/wiki_zh/AJ/wiki_35', '/content/drive/My Drive/wiki_zh/AJ/wiki_03', '/content/drive/My Drive/wiki_zh/AJ/wiki_04', '/content/drive/My Drive/wiki_zh/AJ/wiki_50', '/content/drive/My Drive/wiki_zh/AJ/wiki_57', '/content/drive/My Drive/wiki_zh/AJ/wiki_68', '/content/drive/My Drive/wiki_zh/AJ/wiki_61', '/content/drive/My Drive/wiki_zh/AJ/wiki_95', '/content/drive/My Drive/wiki_zh/AJ/wiki_92', '/content/drive/My Drive/wiki_zh/AJ/wiki_66', '/content/drive/My Drive/wiki_zh/AJ/wiki_59', '/content/drive/My Drive/wiki_zh/AJ/wiki_05', '/content/drive/My Drive/wiki_zh/AJ/wiki_02', '/content/drive/My Drive/wiki_zh/AJ/wiki_34', '/content/drive/My Drive/wiki_zh/AJ/wiki_33', '/content/drive/My Drive/wiki_zh/AJ/wiki_67', '/content/drive/My Drive/wiki_zh/AJ/wiki_93', '/content/drive/My Drive/wiki_zh/AJ/wiki_58', '/content/drive/My Drive/wiki_zh/AJ/wiki_94', '/content/drive/My Drive/wiki_zh/AJ/wiki_60', '/content/drive/My Drive/wiki_zh/AJ/wiki_56', '/content/drive/My Drive/wiki_zh/AJ/wiki_69', '/content/drive/My Drive/wiki_zh/AJ/wiki_51', '/content/drive/My Drive/wiki_zh/AJ/wiki_15', '/content/drive/My Drive/wiki_zh/AJ/wiki_12', '/content/drive/My Drive/wiki_zh/AJ/wiki_24', '/content/drive/My Drive/wiki_zh/AJ/wiki_23', '/content/drive/My Drive/wiki_zh/AJ/wiki_48', '/content/drive/My Drive/wiki_zh/AJ/wiki_83', '/content/drive/My Drive/wiki_zh/AJ/wiki_77', '/content/drive/My Drive/wiki_zh/AJ/wiki_70', '/content/drive/My Drive/wiki_zh/AJ/wiki_84', '/content/drive/My Drive/wiki_zh/AJ/wiki_79', '/content/drive/My Drive/wiki_zh/AJ/wiki_46', '/content/drive/My Drive/wiki_zh/AJ/wiki_41', '/content/drive/My Drive/wiki_zh/AJ/wiki_22', '/content/drive/My Drive/wiki_zh/AJ/wiki_25', '/content/drive/My Drive/wiki_zh/AJ/wiki_13', '/content/drive/My Drive/wiki_zh/AJ/wiki_14', '/content/drive/My Drive/wiki_zh/AJ/wiki_40', '/content/drive/My Drive/wiki_zh/AJ/wiki_78', '/content/drive/My Drive/wiki_zh/AJ/wiki_47', '/content/drive/My Drive/wiki_zh/AJ/wiki_85', '/content/drive/My Drive/wiki_zh/AJ/wiki_71', '/content/drive/My Drive/wiki_zh/AJ/wiki_49', '/content/drive/My Drive/wiki_zh/AJ/wiki_76', '/content/drive/My Drive/wiki_zh/AJ/wiki_82', '/content/drive/My Drive/wiki_zh/AJ/wiki_54', '/content/drive/My Drive/wiki_zh/AJ/wiki_53', '/content/drive/My Drive/wiki_zh/AJ/wiki_98', '/content/drive/My Drive/wiki_zh/AJ/wiki_91', '/content/drive/My Drive/wiki_zh/AJ/wiki_65', '/content/drive/My Drive/wiki_zh/AJ/wiki_62', '/content/drive/My Drive/wiki_zh/AJ/wiki_96', '/content/drive/My Drive/wiki_zh/AJ/wiki_09', '/content/drive/My Drive/wiki_zh/AJ/wiki_36', '/content/drive/My Drive/wiki_zh/AJ/wiki_31', '/content/drive/My Drive/wiki_zh/AJ/wiki_38', '/content/drive/My Drive/wiki_zh/AJ/wiki_07', '/content/drive/My Drive/wiki_zh/AJ/wiki_00', '/content/drive/My Drive/wiki_zh/AJ/wiki_97', '/content/drive/My Drive/wiki_zh/AJ/wiki_63', '/content/drive/My Drive/wiki_zh/AJ/wiki_64', '/content/drive/My Drive/wiki_zh/AJ/wiki_90', '/content/drive/My Drive/wiki_zh/AJ/wiki_52', '/content/drive/My Drive/wiki_zh/AJ/wiki_99', '/content/drive/My Drive/wiki_zh/AJ/wiki_55', '/content/drive/My Drive/wiki_zh/AJ/wiki_01', '/content/drive/My Drive/wiki_zh/AJ/wiki_39', '/content/drive/My Drive/wiki_zh/AJ/wiki_06', '/content/drive/My Drive/wiki_zh/AJ/wiki_30', '/content/drive/My Drive/wiki_zh/AJ/wiki_08', '/content/drive/My Drive/wiki_zh/AJ/wiki_37', '/content/drive/My Drive/wiki_zh/AB/wiki_73', '/content/drive/My Drive/wiki_zh/AB/wiki_87', '/content/drive/My Drive/wiki_zh/AB/wiki_80', '/content/drive/My Drive/wiki_zh/AB/wiki_74', '/content/drive/My Drive/wiki_zh/AB/wiki_89', '/content/drive/My Drive/wiki_zh/AB/wiki_42', '/content/drive/My Drive/wiki_zh/AB/wiki_45', '/content/drive/My Drive/wiki_zh/AB/wiki_11', '/content/drive/My Drive/wiki_zh/AB/wiki_16', '/content/drive/My Drive/wiki_zh/AB/wiki_29', '/content/drive/My Drive/wiki_zh/AB/wiki_20', '/content/drive/My Drive/wiki_zh/AB/wiki_27', '/content/drive/My Drive/wiki_zh/AB/wiki_18', '/content/drive/My Drive/wiki_zh/AB/wiki_44', '/content/drive/My Drive/wiki_zh/AB/wiki_88', '/content/drive/My Drive/wiki_zh/AB/wiki_43', '/content/drive/My Drive/wiki_zh/AB/wiki_75', '/content/drive/My Drive/wiki_zh/AB/wiki_81', '/content/drive/My Drive/wiki_zh/AB/wiki_86', '/content/drive/My Drive/wiki_zh/AB/wiki_72', '/content/drive/My Drive/wiki_zh/AB/wiki_26', '/content/drive/My Drive/wiki_zh/AB/wiki_19', '/content/drive/My Drive/wiki_zh/AB/wiki_21', '/content/drive/My Drive/wiki_zh/AB/wiki_17', '/content/drive/My Drive/wiki_zh/AB/wiki_28', '/content/drive/My Drive/wiki_zh/AB/wiki_10', '/content/drive/My Drive/wiki_zh/AB/wiki_32', '/content/drive/My Drive/wiki_zh/AB/wiki_35', '/content/drive/My Drive/wiki_zh/AB/wiki_03', '/content/drive/My Drive/wiki_zh/AB/wiki_04', '/content/drive/My Drive/wiki_zh/AB/wiki_50', '/content/drive/My Drive/wiki_zh/AB/wiki_57', '/content/drive/My Drive/wiki_zh/AB/wiki_68', '/content/drive/My Drive/wiki_zh/AB/wiki_61', '/content/drive/My Drive/wiki_zh/AB/wiki_95', '/content/drive/My Drive/wiki_zh/AB/wiki_92', '/content/drive/My Drive/wiki_zh/AB/wiki_66', '/content/drive/My Drive/wiki_zh/AB/wiki_59', '/content/drive/My Drive/wiki_zh/AB/wiki_05', '/content/drive/My Drive/wiki_zh/AB/wiki_02', '/content/drive/My Drive/wiki_zh/AB/wiki_34', '/content/drive/My Drive/wiki_zh/AB/wiki_33', '/content/drive/My Drive/wiki_zh/AB/wiki_67', '/content/drive/My Drive/wiki_zh/AB/wiki_93', '/content/drive/My Drive/wiki_zh/AB/wiki_58', '/content/drive/My Drive/wiki_zh/AB/wiki_94', '/content/drive/My Drive/wiki_zh/AB/wiki_60', '/content/drive/My Drive/wiki_zh/AB/wiki_56', '/content/drive/My Drive/wiki_zh/AB/wiki_69', '/content/drive/My Drive/wiki_zh/AB/wiki_51', '/content/drive/My Drive/wiki_zh/AB/wiki_15', '/content/drive/My Drive/wiki_zh/AB/wiki_12', '/content/drive/My Drive/wiki_zh/AB/wiki_24', '/content/drive/My Drive/wiki_zh/AB/wiki_23', '/content/drive/My Drive/wiki_zh/AB/wiki_48', '/content/drive/My Drive/wiki_zh/AB/wiki_83', '/content/drive/My Drive/wiki_zh/AB/wiki_77', '/content/drive/My Drive/wiki_zh/AB/wiki_70', '/content/drive/My Drive/wiki_zh/AB/wiki_84', '/content/drive/My Drive/wiki_zh/AB/wiki_79', '/content/drive/My Drive/wiki_zh/AB/wiki_46', '/content/drive/My Drive/wiki_zh/AB/wiki_41', '/content/drive/My Drive/wiki_zh/AB/wiki_22', '/content/drive/My Drive/wiki_zh/AB/wiki_25', '/content/drive/My Drive/wiki_zh/AB/wiki_13', '/content/drive/My Drive/wiki_zh/AB/wiki_14', '/content/drive/My Drive/wiki_zh/AB/wiki_40', '/content/drive/My Drive/wiki_zh/AB/wiki_78', '/content/drive/My Drive/wiki_zh/AB/wiki_47', '/content/drive/My Drive/wiki_zh/AB/wiki_85', '/content/drive/My Drive/wiki_zh/AB/wiki_71', '/content/drive/My Drive/wiki_zh/AB/wiki_49', '/content/drive/My Drive/wiki_zh/AB/wiki_76', '/content/drive/My Drive/wiki_zh/AB/wiki_82', '/content/drive/My Drive/wiki_zh/AB/wiki_54', '/content/drive/My Drive/wiki_zh/AB/wiki_53', '/content/drive/My Drive/wiki_zh/AB/wiki_98', '/content/drive/My Drive/wiki_zh/AB/wiki_91', '/content/drive/My Drive/wiki_zh/AB/wiki_65', '/content/drive/My Drive/wiki_zh/AB/wiki_62', '/content/drive/My Drive/wiki_zh/AB/wiki_96', '/content/drive/My Drive/wiki_zh/AB/wiki_09', '/content/drive/My Drive/wiki_zh/AB/wiki_36', '/content/drive/My Drive/wiki_zh/AB/wiki_31', '/content/drive/My Drive/wiki_zh/AB/wiki_38', '/content/drive/My Drive/wiki_zh/AB/wiki_07', '/content/drive/My Drive/wiki_zh/AB/wiki_00', '/content/drive/My Drive/wiki_zh/AB/wiki_97', '/content/drive/My Drive/wiki_zh/AB/wiki_63', '/content/drive/My Drive/wiki_zh/AB/wiki_64', '/content/drive/My Drive/wiki_zh/AB/wiki_90', '/content/drive/My Drive/wiki_zh/AB/wiki_52', '/content/drive/My Drive/wiki_zh/AB/wiki_99', '/content/drive/My Drive/wiki_zh/AB/wiki_55', '/content/drive/My Drive/wiki_zh/AB/wiki_01', '/content/drive/My Drive/wiki_zh/AB/wiki_39', '/content/drive/My Drive/wiki_zh/AB/wiki_06', '/content/drive/My Drive/wiki_zh/AB/wiki_30', '/content/drive/My Drive/wiki_zh/AB/wiki_08', '/content/drive/My Drive/wiki_zh/AB/wiki_37', '/content/drive/My Drive/wiki_zh/AH/wiki_73', '/content/drive/My Drive/wiki_zh/AH/wiki_87', '/content/drive/My Drive/wiki_zh/AH/wiki_80', '/content/drive/My Drive/wiki_zh/AH/wiki_74', '/content/drive/My Drive/wiki_zh/AH/wiki_89', '/content/drive/My Drive/wiki_zh/AH/wiki_42', '/content/drive/My Drive/wiki_zh/AH/wiki_45', '/content/drive/My Drive/wiki_zh/AH/wiki_11', '/content/drive/My Drive/wiki_zh/AH/wiki_16', '/content/drive/My Drive/wiki_zh/AH/wiki_29', '/content/drive/My Drive/wiki_zh/AH/wiki_20', '/content/drive/My Drive/wiki_zh/AH/wiki_27', '/content/drive/My Drive/wiki_zh/AH/wiki_18', '/content/drive/My Drive/wiki_zh/AH/wiki_44', '/content/drive/My Drive/wiki_zh/AH/wiki_88', '/content/drive/My Drive/wiki_zh/AH/wiki_43', '/content/drive/My Drive/wiki_zh/AH/wiki_75', '/content/drive/My Drive/wiki_zh/AH/wiki_81', '/content/drive/My Drive/wiki_zh/AH/wiki_86', '/content/drive/My Drive/wiki_zh/AH/wiki_72', '/content/drive/My Drive/wiki_zh/AH/wiki_26', '/content/drive/My Drive/wiki_zh/AH/wiki_19', '/content/drive/My Drive/wiki_zh/AH/wiki_21', '/content/drive/My Drive/wiki_zh/AH/wiki_17', '/content/drive/My Drive/wiki_zh/AH/wiki_28', '/content/drive/My Drive/wiki_zh/AH/wiki_10', '/content/drive/My Drive/wiki_zh/AH/wiki_32', '/content/drive/My Drive/wiki_zh/AH/wiki_35', '/content/drive/My Drive/wiki_zh/AH/wiki_03', '/content/drive/My Drive/wiki_zh/AH/wiki_04', '/content/drive/My Drive/wiki_zh/AH/wiki_50', '/content/drive/My Drive/wiki_zh/AH/wiki_57', '/content/drive/My Drive/wiki_zh/AH/wiki_68', '/content/drive/My Drive/wiki_zh/AH/wiki_61', '/content/drive/My Drive/wiki_zh/AH/wiki_95', '/content/drive/My Drive/wiki_zh/AH/wiki_92', '/content/drive/My Drive/wiki_zh/AH/wiki_66', '/content/drive/My Drive/wiki_zh/AH/wiki_59', '/content/drive/My Drive/wiki_zh/AH/wiki_05', '/content/drive/My Drive/wiki_zh/AH/wiki_02', '/content/drive/My Drive/wiki_zh/AH/wiki_34', '/content/drive/My Drive/wiki_zh/AH/wiki_33', '/content/drive/My Drive/wiki_zh/AH/wiki_67', '/content/drive/My Drive/wiki_zh/AH/wiki_93', '/content/drive/My Drive/wiki_zh/AH/wiki_58', '/content/drive/My Drive/wiki_zh/AH/wiki_94', '/content/drive/My Drive/wiki_zh/AH/wiki_60', '/content/drive/My Drive/wiki_zh/AH/wiki_56', '/content/drive/My Drive/wiki_zh/AH/wiki_69', '/content/drive/My Drive/wiki_zh/AH/wiki_51', '/content/drive/My Drive/wiki_zh/AH/wiki_15', '/content/drive/My Drive/wiki_zh/AH/wiki_12', '/content/drive/My Drive/wiki_zh/AH/wiki_24', '/content/drive/My Drive/wiki_zh/AH/wiki_23', '/content/drive/My Drive/wiki_zh/AH/wiki_48', '/content/drive/My Drive/wiki_zh/AH/wiki_83', '/content/drive/My Drive/wiki_zh/AH/wiki_77', '/content/drive/My Drive/wiki_zh/AH/wiki_70', '/content/drive/My Drive/wiki_zh/AH/wiki_84', '/content/drive/My Drive/wiki_zh/AH/wiki_79', '/content/drive/My Drive/wiki_zh/AH/wiki_46', '/content/drive/My Drive/wiki_zh/AH/wiki_41', '/content/drive/My Drive/wiki_zh/AH/wiki_22', '/content/drive/My Drive/wiki_zh/AH/wiki_25', '/content/drive/My Drive/wiki_zh/AH/wiki_13', '/content/drive/My Drive/wiki_zh/AH/wiki_14', '/content/drive/My Drive/wiki_zh/AH/wiki_40', '/content/drive/My Drive/wiki_zh/AH/wiki_78', '/content/drive/My Drive/wiki_zh/AH/wiki_47', '/content/drive/My Drive/wiki_zh/AH/wiki_85', '/content/drive/My Drive/wiki_zh/AH/wiki_71', '/content/drive/My Drive/wiki_zh/AH/wiki_49', '/content/drive/My Drive/wiki_zh/AH/wiki_76', '/content/drive/My Drive/wiki_zh/AH/wiki_82', '/content/drive/My Drive/wiki_zh/AH/wiki_54', '/content/drive/My Drive/wiki_zh/AH/wiki_53', '/content/drive/My Drive/wiki_zh/AH/wiki_98', '/content/drive/My Drive/wiki_zh/AH/wiki_91', '/content/drive/My Drive/wiki_zh/AH/wiki_65', '/content/drive/My Drive/wiki_zh/AH/wiki_62', '/content/drive/My Drive/wiki_zh/AH/wiki_96', '/content/drive/My Drive/wiki_zh/AH/wiki_09', '/content/drive/My Drive/wiki_zh/AH/wiki_36', '/content/drive/My Drive/wiki_zh/AH/wiki_31', '/content/drive/My Drive/wiki_zh/AH/wiki_38', '/content/drive/My Drive/wiki_zh/AH/wiki_07', '/content/drive/My Drive/wiki_zh/AH/wiki_00', '/content/drive/My Drive/wiki_zh/AH/wiki_97', '/content/drive/My Drive/wiki_zh/AH/wiki_63', '/content/drive/My Drive/wiki_zh/AH/wiki_64', '/content/drive/My Drive/wiki_zh/AH/wiki_90', '/content/drive/My Drive/wiki_zh/AH/wiki_52', '/content/drive/My Drive/wiki_zh/AH/wiki_99', '/content/drive/My Drive/wiki_zh/AH/wiki_55', '/content/drive/My Drive/wiki_zh/AH/wiki_01', '/content/drive/My Drive/wiki_zh/AH/wiki_39', '/content/drive/My Drive/wiki_zh/AH/wiki_06', '/content/drive/My Drive/wiki_zh/AH/wiki_30', '/content/drive/My Drive/wiki_zh/AH/wiki_08', '/content/drive/My Drive/wiki_zh/AH/wiki_37', '/content/drive/My Drive/wiki_zh/AA/wiki_73', '/content/drive/My Drive/wiki_zh/AA/wiki_87', '/content/drive/My Drive/wiki_zh/AA/wiki_80', '/content/drive/My Drive/wiki_zh/AA/wiki_74', '/content/drive/My Drive/wiki_zh/AA/wiki_89', '/content/drive/My Drive/wiki_zh/AA/wiki_42', '/content/drive/My Drive/wiki_zh/AA/wiki_45', '/content/drive/My Drive/wiki_zh/AA/wiki_11', '/content/drive/My Drive/wiki_zh/AA/wiki_16', '/content/drive/My Drive/wiki_zh/AA/wiki_29', '/content/drive/My Drive/wiki_zh/AA/wiki_20', '/content/drive/My Drive/wiki_zh/AA/wiki_27', '/content/drive/My Drive/wiki_zh/AA/wiki_18', '/content/drive/My Drive/wiki_zh/AA/wiki_44', '/content/drive/My Drive/wiki_zh/AA/wiki_88', '/content/drive/My Drive/wiki_zh/AA/wiki_43', '/content/drive/My Drive/wiki_zh/AA/wiki_75', '/content/drive/My Drive/wiki_zh/AA/wiki_81', '/content/drive/My Drive/wiki_zh/AA/wiki_86', '/content/drive/My Drive/wiki_zh/AA/wiki_72', '/content/drive/My Drive/wiki_zh/AA/wiki_26', '/content/drive/My Drive/wiki_zh/AA/wiki_19', '/content/drive/My Drive/wiki_zh/AA/wiki_21', '/content/drive/My Drive/wiki_zh/AA/wiki_17', '/content/drive/My Drive/wiki_zh/AA/wiki_28', '/content/drive/My Drive/wiki_zh/AA/wiki_10', '/content/drive/My Drive/wiki_zh/AA/wiki_32', '/content/drive/My Drive/wiki_zh/AA/wiki_35', '/content/drive/My Drive/wiki_zh/AA/wiki_03', '/content/drive/My Drive/wiki_zh/AA/wiki_04', '/content/drive/My Drive/wiki_zh/AA/wiki_50', '/content/drive/My Drive/wiki_zh/AA/wiki_57', '/content/drive/My Drive/wiki_zh/AA/wiki_68', '/content/drive/My Drive/wiki_zh/AA/wiki_61', '/content/drive/My Drive/wiki_zh/AA/wiki_95', '/content/drive/My Drive/wiki_zh/AA/wiki_92', '/content/drive/My Drive/wiki_zh/AA/wiki_66', '/content/drive/My Drive/wiki_zh/AA/wiki_59', '/content/drive/My Drive/wiki_zh/AA/wiki_05', '/content/drive/My Drive/wiki_zh/AA/wiki_02', '/content/drive/My Drive/wiki_zh/AA/wiki_34', '/content/drive/My Drive/wiki_zh/AA/wiki_33', '/content/drive/My Drive/wiki_zh/AA/wiki_67', '/content/drive/My Drive/wiki_zh/AA/wiki_93', '/content/drive/My Drive/wiki_zh/AA/wiki_58', '/content/drive/My Drive/wiki_zh/AA/wiki_94', '/content/drive/My Drive/wiki_zh/AA/wiki_60', '/content/drive/My Drive/wiki_zh/AA/wiki_56', '/content/drive/My Drive/wiki_zh/AA/wiki_69', '/content/drive/My Drive/wiki_zh/AA/wiki_51', '/content/drive/My Drive/wiki_zh/AA/wiki_15', '/content/drive/My Drive/wiki_zh/AA/wiki_12', '/content/drive/My Drive/wiki_zh/AA/wiki_24', '/content/drive/My Drive/wiki_zh/AA/wiki_23', '/content/drive/My Drive/wiki_zh/AA/wiki_48', '/content/drive/My Drive/wiki_zh/AA/wiki_83', '/content/drive/My Drive/wiki_zh/AA/wiki_77', '/content/drive/My Drive/wiki_zh/AA/wiki_70', '/content/drive/My Drive/wiki_zh/AA/wiki_84', '/content/drive/My Drive/wiki_zh/AA/wiki_79', '/content/drive/My Drive/wiki_zh/AA/wiki_46', '/content/drive/My Drive/wiki_zh/AA/wiki_41', '/content/drive/My Drive/wiki_zh/AA/wiki_22', '/content/drive/My Drive/wiki_zh/AA/wiki_25', '/content/drive/My Drive/wiki_zh/AA/wiki_13', '/content/drive/My Drive/wiki_zh/AA/wiki_14', '/content/drive/My Drive/wiki_zh/AA/wiki_40', '/content/drive/My Drive/wiki_zh/AA/wiki_78', '/content/drive/My Drive/wiki_zh/AA/wiki_47', '/content/drive/My Drive/wiki_zh/AA/wiki_85', '/content/drive/My Drive/wiki_zh/AA/wiki_71', '/content/drive/My Drive/wiki_zh/AA/wiki_49', '/content/drive/My Drive/wiki_zh/AA/wiki_76', '/content/drive/My Drive/wiki_zh/AA/wiki_82', '/content/drive/My Drive/wiki_zh/AA/wiki_54', '/content/drive/My Drive/wiki_zh/AA/wiki_53', '/content/drive/My Drive/wiki_zh/AA/wiki_98', '/content/drive/My Drive/wiki_zh/AA/wiki_91', '/content/drive/My Drive/wiki_zh/AA/wiki_65', '/content/drive/My Drive/wiki_zh/AA/wiki_62', '/content/drive/My Drive/wiki_zh/AA/wiki_96', '/content/drive/My Drive/wiki_zh/AA/wiki_09', '/content/drive/My Drive/wiki_zh/AA/wiki_36', '/content/drive/My Drive/wiki_zh/AA/wiki_31', '/content/drive/My Drive/wiki_zh/AA/wiki_38', '/content/drive/My Drive/wiki_zh/AA/wiki_07', '/content/drive/My Drive/wiki_zh/AA/wiki_00', '/content/drive/My Drive/wiki_zh/AA/wiki_97', '/content/drive/My Drive/wiki_zh/AA/wiki_63', '/content/drive/My Drive/wiki_zh/AA/wiki_64', '/content/drive/My Drive/wiki_zh/AA/wiki_90', '/content/drive/My Drive/wiki_zh/AA/wiki_52', '/content/drive/My Drive/wiki_zh/AA/wiki_99', '/content/drive/My Drive/wiki_zh/AA/wiki_55', '/content/drive/My Drive/wiki_zh/AA/wiki_01', '/content/drive/My Drive/wiki_zh/AA/wiki_39', '/content/drive/My Drive/wiki_zh/AA/wiki_06', '/content/drive/My Drive/wiki_zh/AA/wiki_30', '/content/drive/My Drive/wiki_zh/AA/wiki_08', '/content/drive/My Drive/wiki_zh/AA/wiki_37', '/content/drive/My Drive/wiki_zh/AF/wiki_73', '/content/drive/My Drive/wiki_zh/AF/wiki_87', '/content/drive/My Drive/wiki_zh/AF/wiki_80', '/content/drive/My Drive/wiki_zh/AF/wiki_74', '/content/drive/My Drive/wiki_zh/AF/wiki_89', '/content/drive/My Drive/wiki_zh/AF/wiki_42', '/content/drive/My Drive/wiki_zh/AF/wiki_45', '/content/drive/My Drive/wiki_zh/AF/wiki_11', '/content/drive/My Drive/wiki_zh/AF/wiki_16', '/content/drive/My Drive/wiki_zh/AF/wiki_29', '/content/drive/My Drive/wiki_zh/AF/wiki_20', '/content/drive/My Drive/wiki_zh/AF/wiki_27', '/content/drive/My Drive/wiki_zh/AF/wiki_18', '/content/drive/My Drive/wiki_zh/AF/wiki_44', '/content/drive/My Drive/wiki_zh/AF/wiki_88', '/content/drive/My Drive/wiki_zh/AF/wiki_43', '/content/drive/My Drive/wiki_zh/AF/wiki_75', '/content/drive/My Drive/wiki_zh/AF/wiki_81', '/content/drive/My Drive/wiki_zh/AF/wiki_86', '/content/drive/My Drive/wiki_zh/AF/wiki_72', '/content/drive/My Drive/wiki_zh/AF/wiki_26', '/content/drive/My Drive/wiki_zh/AF/wiki_19', '/content/drive/My Drive/wiki_zh/AF/wiki_21', '/content/drive/My Drive/wiki_zh/AF/wiki_17', '/content/drive/My Drive/wiki_zh/AF/wiki_28', '/content/drive/My Drive/wiki_zh/AF/wiki_10', '/content/drive/My Drive/wiki_zh/AF/wiki_32', '/content/drive/My Drive/wiki_zh/AF/wiki_35', '/content/drive/My Drive/wiki_zh/AF/wiki_03', '/content/drive/My Drive/wiki_zh/AF/wiki_04', '/content/drive/My Drive/wiki_zh/AF/wiki_50', '/content/drive/My Drive/wiki_zh/AF/wiki_57', '/content/drive/My Drive/wiki_zh/AF/wiki_68', '/content/drive/My Drive/wiki_zh/AF/wiki_61', '/content/drive/My Drive/wiki_zh/AF/wiki_95', '/content/drive/My Drive/wiki_zh/AF/wiki_92', '/content/drive/My Drive/wiki_zh/AF/wiki_66', '/content/drive/My Drive/wiki_zh/AF/wiki_59', '/content/drive/My Drive/wiki_zh/AF/wiki_05', '/content/drive/My Drive/wiki_zh/AF/wiki_02', '/content/drive/My Drive/wiki_zh/AF/wiki_34', '/content/drive/My Drive/wiki_zh/AF/wiki_33', '/content/drive/My Drive/wiki_zh/AF/wiki_67', '/content/drive/My Drive/wiki_zh/AF/wiki_93', '/content/drive/My Drive/wiki_zh/AF/wiki_58', '/content/drive/My Drive/wiki_zh/AF/wiki_94', '/content/drive/My Drive/wiki_zh/AF/wiki_60', '/content/drive/My Drive/wiki_zh/AF/wiki_56', '/content/drive/My Drive/wiki_zh/AF/wiki_69', '/content/drive/My Drive/wiki_zh/AF/wiki_51', '/content/drive/My Drive/wiki_zh/AF/wiki_15', '/content/drive/My Drive/wiki_zh/AF/wiki_12', '/content/drive/My Drive/wiki_zh/AF/wiki_24', '/content/drive/My Drive/wiki_zh/AF/wiki_23', '/content/drive/My Drive/wiki_zh/AF/wiki_48', '/content/drive/My Drive/wiki_zh/AF/wiki_83', '/content/drive/My Drive/wiki_zh/AF/wiki_77', '/content/drive/My Drive/wiki_zh/AF/wiki_70', '/content/drive/My Drive/wiki_zh/AF/wiki_84', '/content/drive/My Drive/wiki_zh/AF/wiki_79', '/content/drive/My Drive/wiki_zh/AF/wiki_46', '/content/drive/My Drive/wiki_zh/AF/wiki_41', '/content/drive/My Drive/wiki_zh/AF/wiki_22', '/content/drive/My Drive/wiki_zh/AF/wiki_25', '/content/drive/My Drive/wiki_zh/AF/wiki_13', '/content/drive/My Drive/wiki_zh/AF/wiki_14', '/content/drive/My Drive/wiki_zh/AF/wiki_40', '/content/drive/My Drive/wiki_zh/AF/wiki_78', '/content/drive/My Drive/wiki_zh/AF/wiki_47', '/content/drive/My Drive/wiki_zh/AF/wiki_85', '/content/drive/My Drive/wiki_zh/AF/wiki_71', '/content/drive/My Drive/wiki_zh/AF/wiki_49', '/content/drive/My Drive/wiki_zh/AF/wiki_76', '/content/drive/My Drive/wiki_zh/AF/wiki_82', '/content/drive/My Drive/wiki_zh/AF/wiki_54', '/content/drive/My Drive/wiki_zh/AF/wiki_53', '/content/drive/My Drive/wiki_zh/AF/wiki_98', '/content/drive/My Drive/wiki_zh/AF/wiki_91', '/content/drive/My Drive/wiki_zh/AF/wiki_65', '/content/drive/My Drive/wiki_zh/AF/wiki_62', '/content/drive/My Drive/wiki_zh/AF/wiki_96', '/content/drive/My Drive/wiki_zh/AF/wiki_09', '/content/drive/My Drive/wiki_zh/AF/wiki_36', '/content/drive/My Drive/wiki_zh/AF/wiki_31', '/content/drive/My Drive/wiki_zh/AF/wiki_38', '/content/drive/My Drive/wiki_zh/AF/wiki_07', '/content/drive/My Drive/wiki_zh/AF/wiki_00', '/content/drive/My Drive/wiki_zh/AF/wiki_97', '/content/drive/My Drive/wiki_zh/AF/wiki_63', '/content/drive/My Drive/wiki_zh/AF/wiki_64', '/content/drive/My Drive/wiki_zh/AF/wiki_90', '/content/drive/My Drive/wiki_zh/AF/wiki_52', '/content/drive/My Drive/wiki_zh/AF/wiki_99', '/content/drive/My Drive/wiki_zh/AF/wiki_55', '/content/drive/My Drive/wiki_zh/AF/wiki_01', '/content/drive/My Drive/wiki_zh/AF/wiki_39', '/content/drive/My Drive/wiki_zh/AF/wiki_06', '/content/drive/My Drive/wiki_zh/AF/wiki_30', '/content/drive/My Drive/wiki_zh/AF/wiki_08', '/content/drive/My Drive/wiki_zh/AF/wiki_37', '/content/drive/My Drive/wiki_zh/DriveUploader/dict.txt.big', '/content/drive/My Drive/wiki_zh/DriveUploader/StopWords.txt', '/content/drive/My Drive/wiki_zh/DriveUploader/cn_stopwords.txt', '/content/drive/My Drive/wiki_zh/DriveUploader/corpusSegDone.model', '/content/drive/My Drive/wiki_zh/DriveUploader/corpusSegDone.txt']\n"
          ],
          "name": "stdout"
        }
      ]
    },
    {
      "cell_type": "markdown",
      "metadata": {
        "id": "_br9dhQMzVdj"
      },
      "source": [
        "# jieba 斷詞"
      ]
    },
    {
      "cell_type": "code",
      "metadata": {
        "colab": {
          "base_uri": "https://localhost:8080/"
        },
        "id": "w3Jcdxzzwger",
        "outputId": "7fa474be-3579-4eac-ebdb-b48dd804c205"
      },
      "source": [
        "# coding=utf-8\n",
        "import jieba \n",
        "import json\n",
        "import re\n",
        "\n",
        "dictionaryPath = '/content/drive/My Drive/wiki_zh/DriveUploader/dict.txt.big'\n",
        "jieba.set_dictionary()##加入繁體中文\n",
        "\n",
        "# 讀取停用詞\n",
        "def stopwordslist(filepath):  \n",
        "    stopwords = [line.strip() for line in open(filepath, 'r', encoding='utf-8').readlines()]  \n",
        "    return stopwords \n",
        "\n",
        "def LoadToSeg(filepath, fW):\n",
        "    with open(filePath[0], 'r') as obj:\n",
        "        for line in obj.readlines():\n",
        "            dic = json.loads(line)\n",
        "            temp_text = re.findall('[\\u4e00-\\u9fa5]', dic['text'])\n",
        "            text = ''.join(temp_text)\n",
        "            tags = jieba.lcut(text, cut_all=False)\n",
        "            ThisLine = ''\n",
        "            for tag in tags:\n",
        "                if tag not in stopwords:  \n",
        "                    if tag != '\\t' and tag != '\\n' and tag != '' and len(tag) > 1:  \n",
        "                        ThisLine += tag  \n",
        "                        ThisLine += \" \"   #再次組合成【帶空格】的串\n",
        "            fW.write((ThisLine+\"\\n\").encode('utf-8'))\n",
        "            \n",
        "stopwords = stopwordslist('/content/drive/My Drive/wiki_zh/DriveUploader/cn_stopwords.txt')  # 這裏加載停用詞的路徑 \n",
        "fileSegWordDonePath ='/content/drive/My Drive/wiki_zh/DriveUploader/corpusSegDone.txt'\n",
        "with open(fileSegWordDonePath,'wb') as fW:\n",
        "    fW.truncate(0)\n",
        "    index = 0\n",
        "    for path in filePath:\n",
        "        LoadToSeg(path, fW)\n",
        "        index += 1\n",
        "        if index % 100 == 0:\n",
        "            print(index)\n",
        "print(\"Finish\")"
      ],
      "execution_count": 7,
      "outputs": [
        {
          "output_type": "stream",
          "text": [
            "Building prefix dict from the default dictionary ...\n",
            "Dumping model to file cache /tmp/jieba.cache\n",
            "Loading model cost 1.037 seconds.\n",
            "Prefix dict has been built successfully.\n"
          ],
          "name": "stderr"
        },
        {
          "output_type": "stream",
          "text": [
            "100\n",
            "200\n",
            "300\n",
            "400\n",
            "500\n",
            "600\n",
            "700\n",
            "800\n",
            "900\n",
            "1000\n",
            "1100\n",
            "1200\n",
            "Finish\n"
          ],
          "name": "stdout"
        }
      ]
    },
    {
      "cell_type": "markdown",
      "metadata": {
        "id": "XSDjMZmDNvbQ"
      },
      "source": [
        "# word2vec 轉成高維空間向量"
      ]
    },
    {
      "cell_type": "code",
      "metadata": {
        "colab": {
          "base_uri": "https://localhost:8080/"
        },
        "id": "WmFlgeRENyJw",
        "outputId": "871a7f40-7c82-4994-f8de-2673b129c345"
      },
      "source": [
        "from gensim.models import word2vec\n",
        "# jieba分詞轉word2vec向量\n",
        "fileSegWordDonePath ='/content/drive/My Drive/wiki_zh/DriveUploader/corpusSegDone.txt'\n",
        "fileSegWordDonePath2 ='/content/drive/My Drive/wiki_zh/DriveUploader/corpusSegDone.model'\n",
        "\n",
        "sentences = word2vec.LineSentence(fileSegWordDonePath)\n",
        "model = word2vec.Word2Vec(sentences, size=250, min_count=1, negative=5, workers=3, sg=1)\n",
        "model.save(fileSegWordDonePath2)\n",
        "print(\"Finish\")"
      ],
      "execution_count": 8,
      "outputs": [
        {
          "output_type": "stream",
          "text": [
            "Finish\n"
          ],
          "name": "stdout"
        }
      ]
    },
    {
      "cell_type": "markdown",
      "metadata": {
        "id": "s8uhRbtlORPM"
      },
      "source": [
        "# Result"
      ]
    },
    {
      "cell_type": "code",
      "metadata": {
        "colab": {
          "base_uri": "https://localhost:8080/"
        },
        "id": "cG3wID4jRxH_",
        "outputId": "4b4f7e11-98bf-4137-a797-95303c28308f"
      },
      "source": [
        "# -*- coding: utf-8 -*-# -*- coding: utf-8 -*-\n",
        "import sys\n",
        "from gensim.models import word2vec \n",
        "from gensim import models\n",
        "from hanziconv import HanziConv\n",
        "\n",
        "def main():   \n",
        "    a = input(\"input:\") \n",
        "    Simp = HanziConv.toSimplified(a)\n",
        "    model = models.Word2Vec.load(fileSegWordDonePath2)\n",
        "    try:\n",
        "        res = model.most_similar(Simp, topn=20)\n",
        "        for item in res: \n",
        "            print(HanziConv.toTraditional(item[0]) + ':' + str(item[1]))\n",
        "    except KeyError:\n",
        "        print(a + \" is not in the vocabulary\")\n",
        "\n",
        "if __name__=='__main__':\n",
        "    main()"
      ],
      "execution_count": 29,
      "outputs": [
        {
          "output_type": "stream",
          "text": [
            "input:日本\n",
            "火腿:0.45510420203208923\n",
            "鬥士:0.4525272250175476\n",
            "近畿:0.4509308338165283\n",
            "堀隼平:0.4506727457046509\n",
            "保守勢力:0.44793859124183655\n",
            "東北大學:0.44748449325561523\n",
            "四國:0.4469233751296997\n",
            "島田海:0.44480088353157043\n",
            "區北:0.44373926520347595\n",
            "眾議院:0.4428616762161255\n",
            "傲嬌:0.4428328573703766\n",
            "旅遊觀光:0.44219428300857544\n",
            "平深:0.44214490056037903\n",
            "颱後:0.4413280189037323\n",
            "武獅:0.44118741154670715\n",
            "區南:0.440742552280426\n",
            "福岡:0.43927642703056335\n",
            "小崎亞:0.4392372965812683\n",
            "初代社:0.43874943256378174\n",
            "男友:0.43854284286499023\n"
          ],
          "name": "stdout"
        },
        {
          "output_type": "stream",
          "text": [
            "/usr/local/lib/python3.7/dist-packages/ipykernel_launcher.py:12: DeprecationWarning: Call to deprecated `most_similar` (Method will be removed in 4.0.0, use self.wv.most_similar() instead).\n",
            "  if sys.path[0] == '':\n"
          ],
          "name": "stderr"
        }
      ]
    }
  ]
}
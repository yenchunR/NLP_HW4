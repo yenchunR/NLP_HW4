{
  "nbformat": 4,
  "nbformat_minor": 0,
  "metadata": {
    "colab": {
      "name": "HW4.ipynb",
      "provenance": [],
      "collapsed_sections": [],
      "authorship_tag": "ABX9TyMWzjyX0/0XMnuS+456G6qX",
      "include_colab_link": true
    },
    "kernelspec": {
      "name": "python3",
      "display_name": "Python 3"
    },
    "language_info": {
      "name": "python"
    }
  },
  "cells": [
    {
      "cell_type": "markdown",
      "metadata": {
        "id": "view-in-github",
        "colab_type": "text"
      },
      "source": [
        "<a href=\"https://colab.research.google.com/github/yenchunR/NLP_HW4/blob/master/HW4.ipynb\" target=\"_parent\"><img src=\"https://colab.research.google.com/assets/colab-badge.svg\" alt=\"Open In Colab\"/></a>"
      ]
    },
    {
      "cell_type": "markdown",
      "metadata": {
        "id": "Y9IOSIgvNeBU"
      },
      "source": [
        "# Install Module"
      ]
    },
    {
      "cell_type": "code",
      "metadata": {
        "colab": {
          "base_uri": "https://localhost:8080/"
        },
        "id": "zQ_DqNfo0Wfd",
        "outputId": "c1f07d9b-0bbf-42b3-fa2e-d7d4fd81d6c6"
      },
      "source": [
        "!pip3 install opencc-python-reimplemented"
      ],
      "execution_count": 41,
      "outputs": [
        {
          "output_type": "stream",
          "text": [
            "Collecting opencc-python-reimplemented\n",
            "  Downloading opencc-python-reimplemented-0.1.6.tar.gz (484 kB)\n",
            "\u001b[?25l\r\u001b[K     |▊                               | 10 kB 17.3 MB/s eta 0:00:01\r\u001b[K     |█▍                              | 20 kB 22.5 MB/s eta 0:00:01\r\u001b[K     |██                              | 30 kB 20.0 MB/s eta 0:00:01\r\u001b[K     |██▊                             | 40 kB 14.2 MB/s eta 0:00:01\r\u001b[K     |███▍                            | 51 kB 5.7 MB/s eta 0:00:01\r\u001b[K     |████                            | 61 kB 5.7 MB/s eta 0:00:01\r\u001b[K     |████▊                           | 71 kB 5.5 MB/s eta 0:00:01\r\u001b[K     |█████▍                          | 81 kB 6.2 MB/s eta 0:00:01\r\u001b[K     |██████                          | 92 kB 6.0 MB/s eta 0:00:01\r\u001b[K     |██████▊                         | 102 kB 5.3 MB/s eta 0:00:01\r\u001b[K     |███████▍                        | 112 kB 5.3 MB/s eta 0:00:01\r\u001b[K     |████████▏                       | 122 kB 5.3 MB/s eta 0:00:01\r\u001b[K     |████████▉                       | 133 kB 5.3 MB/s eta 0:00:01\r\u001b[K     |█████████▌                      | 143 kB 5.3 MB/s eta 0:00:01\r\u001b[K     |██████████▏                     | 153 kB 5.3 MB/s eta 0:00:01\r\u001b[K     |██████████▉                     | 163 kB 5.3 MB/s eta 0:00:01\r\u001b[K     |███████████▌                    | 174 kB 5.3 MB/s eta 0:00:01\r\u001b[K     |████████████▏                   | 184 kB 5.3 MB/s eta 0:00:01\r\u001b[K     |████████████▉                   | 194 kB 5.3 MB/s eta 0:00:01\r\u001b[K     |█████████████▌                  | 204 kB 5.3 MB/s eta 0:00:01\r\u001b[K     |██████████████▏                 | 215 kB 5.3 MB/s eta 0:00:01\r\u001b[K     |██████████████▉                 | 225 kB 5.3 MB/s eta 0:00:01\r\u001b[K     |███████████████▌                | 235 kB 5.3 MB/s eta 0:00:01\r\u001b[K     |████████████████▎               | 245 kB 5.3 MB/s eta 0:00:01\r\u001b[K     |█████████████████               | 256 kB 5.3 MB/s eta 0:00:01\r\u001b[K     |█████████████████▋              | 266 kB 5.3 MB/s eta 0:00:01\r\u001b[K     |██████████████████▎             | 276 kB 5.3 MB/s eta 0:00:01\r\u001b[K     |███████████████████             | 286 kB 5.3 MB/s eta 0:00:01\r\u001b[K     |███████████████████▋            | 296 kB 5.3 MB/s eta 0:00:01\r\u001b[K     |████████████████████▎           | 307 kB 5.3 MB/s eta 0:00:01\r\u001b[K     |█████████████████████           | 317 kB 5.3 MB/s eta 0:00:01\r\u001b[K     |█████████████████████▋          | 327 kB 5.3 MB/s eta 0:00:01\r\u001b[K     |██████████████████████▎         | 337 kB 5.3 MB/s eta 0:00:01\r\u001b[K     |███████████████████████         | 348 kB 5.3 MB/s eta 0:00:01\r\u001b[K     |███████████████████████▊        | 358 kB 5.3 MB/s eta 0:00:01\r\u001b[K     |████████████████████████▍       | 368 kB 5.3 MB/s eta 0:00:01\r\u001b[K     |█████████████████████████       | 378 kB 5.3 MB/s eta 0:00:01\r\u001b[K     |█████████████████████████▊      | 389 kB 5.3 MB/s eta 0:00:01\r\u001b[K     |██████████████████████████▍     | 399 kB 5.3 MB/s eta 0:00:01\r\u001b[K     |███████████████████████████     | 409 kB 5.3 MB/s eta 0:00:01\r\u001b[K     |███████████████████████████▊    | 419 kB 5.3 MB/s eta 0:00:01\r\u001b[K     |████████████████████████████▍   | 430 kB 5.3 MB/s eta 0:00:01\r\u001b[K     |█████████████████████████████   | 440 kB 5.3 MB/s eta 0:00:01\r\u001b[K     |█████████████████████████████▊  | 450 kB 5.3 MB/s eta 0:00:01\r\u001b[K     |██████████████████████████████▍ | 460 kB 5.3 MB/s eta 0:00:01\r\u001b[K     |███████████████████████████████ | 471 kB 5.3 MB/s eta 0:00:01\r\u001b[K     |███████████████████████████████▉| 481 kB 5.3 MB/s eta 0:00:01\r\u001b[K     |████████████████████████████████| 484 kB 5.3 MB/s \n",
            "\u001b[?25hBuilding wheels for collected packages: opencc-python-reimplemented\n",
            "  Building wheel for opencc-python-reimplemented (setup.py) ... \u001b[?25l\u001b[?25hdone\n",
            "  Created wheel for opencc-python-reimplemented: filename=opencc_python_reimplemented-0.1.6-py2.py3-none-any.whl size=486150 sha256=6b1af0cef67f492f02aea2a8075610d522d9322aef2687e6bcd0d87a6a1dc831\n",
            "  Stored in directory: /root/.cache/pip/wheels/4e/e2/60/d062d260be08788bb389521544a8fc173de9a9a78d6a593344\n",
            "Successfully built opencc-python-reimplemented\n",
            "Installing collected packages: opencc-python-reimplemented\n",
            "Successfully installed opencc-python-reimplemented-0.1.6\n"
          ],
          "name": "stdout"
        }
      ]
    },
    {
      "cell_type": "code",
      "metadata": {
        "colab": {
          "base_uri": "https://localhost:8080/"
        },
        "id": "OlGwD3cYYAkF",
        "outputId": "682b9419-e37a-481d-9d68-056d52de5d10"
      },
      "source": [
        "!pip3 install gensim"
      ],
      "execution_count": 91,
      "outputs": [
        {
          "output_type": "stream",
          "text": [
            "Requirement already satisfied: gensim in /usr/local/lib/python3.7/dist-packages (3.6.0)\n",
            "Requirement already satisfied: numpy>=1.11.3 in /usr/local/lib/python3.7/dist-packages (from gensim) (1.19.5)\n",
            "Requirement already satisfied: smart-open>=1.2.1 in /usr/local/lib/python3.7/dist-packages (from gensim) (5.1.0)\n",
            "Requirement already satisfied: six>=1.5.0 in /usr/local/lib/python3.7/dist-packages (from gensim) (1.15.0)\n",
            "Requirement already satisfied: scipy>=0.18.1 in /usr/local/lib/python3.7/dist-packages (from gensim) (1.4.1)\n"
          ],
          "name": "stdout"
        }
      ]
    },
    {
      "cell_type": "markdown",
      "metadata": {
        "id": "vF7ZwfOKpdEw"
      },
      "source": [
        "# 將Colab連結Drive"
      ]
    },
    {
      "cell_type": "code",
      "metadata": {
        "colab": {
          "base_uri": "https://localhost:8080/"
        },
        "id": "9D3f_ouRpj2B",
        "outputId": "c7f36808-18ca-4c1d-c216-a3cca03a0b59"
      },
      "source": [
        "from google.colab import drive\n",
        "drive.mount('/content/drive')"
      ],
      "execution_count": 67,
      "outputs": [
        {
          "output_type": "stream",
          "text": [
            "Drive already mounted at /content/drive; to attempt to forcibly remount, call drive.mount(\"/content/drive\", force_remount=True).\n"
          ],
          "name": "stdout"
        }
      ]
    },
    {
      "cell_type": "markdown",
      "metadata": {
        "id": "Kia8HbibsPxt"
      },
      "source": [
        "# 讀取所有檔案路徑"
      ]
    },
    {
      "cell_type": "code",
      "metadata": {
        "colab": {
          "base_uri": "https://localhost:8080/"
        },
        "id": "XyrJilquqGK0",
        "outputId": "825cc6fb-6748-423f-b71c-59c9e2f2c9eb"
      },
      "source": [
        "import pandas as pd\n",
        "import os\n",
        "\n",
        "# 把列出資料夾的程式碼寫成一個函式\n",
        "filePath = []\n",
        "def show_folder_content(folder_path):\n",
        "\n",
        "    folder_content = os.listdir(folder_path)\n",
        "    for item in folder_content:\n",
        "        if os.path.isdir(folder_path + '/' + item):\n",
        "            # 呼叫自己處理這個子資料夾\n",
        "            show_folder_content(folder_path + '/' + item)\n",
        "        elif os.path.isfile(folder_path + '/' + item):\n",
        "            filePath.append(folder_path + '/' + item)\n",
        "        else:\n",
        "            print('無法辨識：' + item)\n",
        "\n",
        "\n",
        "# 顯示指定資料夾的內容\n",
        "target_folder = '/content/drive/My Drive/wiki_zh'\n",
        "show_folder_content(target_folder)\n",
        "print(\"Finish\", len(filePath))\n"
      ],
      "execution_count": 64,
      "outputs": [
        {
          "output_type": "stream",
          "text": [
            "Finish 1279\n"
          ],
          "name": "stdout"
        }
      ]
    },
    {
      "cell_type": "markdown",
      "metadata": {
        "id": "_br9dhQMzVdj"
      },
      "source": [
        "# jieba 斷詞"
      ]
    },
    {
      "cell_type": "code",
      "metadata": {
        "id": "RVt3VmO5m_gR"
      },
      "source": [
        "# coding=utf-8\n",
        "from opencc import OpenCC\n",
        "import jieba \n",
        "import json\n",
        "import re\n",
        "\n",
        "dictionaryPath = '/content/drive/My Drive/wiki_zh/DriveUploader/dict.txt.big'\n",
        "jieba.set_dictionary(dictionaryPath) ##加入繁體中文\n",
        "\n",
        "# Initial\n",
        "cc = OpenCC('s2t')\n",
        "\n",
        "# 讀取停用詞\n",
        "def stopwordslist(filepath):  \n",
        "    stopwords = [line.strip() for line in open(filepath, 'r', encoding='utf-8').readlines()]  \n",
        "    return stopwords \n",
        "\n",
        "def LoadToSeg(filepath, fW):\n",
        "    with open(filepath, 'r') as obj:\n",
        "        for line in obj.readlines():\n",
        "            dic = json.loads(line)\n",
        "            temp_text = re.findall('[\\u4e00-\\u9fa5]', cc.convert(dic['text']))\n",
        "            text = ''.join(temp_text)\n",
        "            tags = jieba.lcut(text, cut_all=False)\n",
        "            ThisLine = ''\n",
        "            for tag in tags:\n",
        "                if tag not in stopwords:  \n",
        "                    if tag != '\\t' and tag != '\\n' and tag != '' and len(tag) > 1:  \n",
        "                        ThisLine += tag  \n",
        "                        ThisLine += \" \"   #再次組合成【帶空格】的串\n",
        "            fW.write((ThisLine+\"\\n\").encode('utf-8'))\n",
        "            \n",
        "stopwords = stopwordslist('/content/drive/My Drive/wiki_zh/DriveUploader/StopWords.txt')  # 這裏加載停用詞的路徑 \n",
        "fileSegWordDonePath ='/content/drive/My Drive/wiki_zh/DriveUploader/corpusSegDone.txt'\n",
        "with open(fileSegWordDonePath,'wb') as fW:\n",
        "    fW.truncate(0)\n",
        "    index = 0\n",
        "    for path in filePath:\n",
        "        LoadToSeg(path, fW)\n",
        "        index += 1\n",
        "        if index % 100 == 0:\n",
        "            print(index)\n",
        "\n",
        "print(\"Finish\")"
      ],
      "execution_count": null,
      "outputs": []
    },
    {
      "cell_type": "markdown",
      "metadata": {
        "id": "XSDjMZmDNvbQ"
      },
      "source": [
        "# word2vec 轉成高維空間向量"
      ]
    },
    {
      "cell_type": "code",
      "metadata": {
        "colab": {
          "base_uri": "https://localhost:8080/"
        },
        "id": "WmFlgeRENyJw",
        "outputId": "5d4b9ab8-05bd-4174-852e-a7c077323a94"
      },
      "source": [
        "from gensim.models import word2vec\n",
        "# jieba分詞轉word2vec向量\n",
        "fileSegWordDonePath ='/content/drive/My Drive/wiki_zh/DriveUploader/corpusSegDone.txt'\n",
        "fileSegWordDonePath2 ='/content/drive/My Drive/wiki_zh/DriveUploader/corpusSegDone.model'\n",
        "\n",
        "# Settings\n",
        "sentences = word2vec.LineSentence(fileSegWordDonePath)\n",
        "model = word2vec.Word2Vec(sentences, seed = 666, sg = 0, window = 10, min_count = 1, workers = 8)\n",
        "model.save(fileSegWordDonePath2)\n",
        "print(\"Finish\")"
      ],
      "execution_count": 66,
      "outputs": [
        {
          "output_type": "stream",
          "text": [
            "Finish\n"
          ],
          "name": "stdout"
        }
      ]
    },
    {
      "cell_type": "markdown",
      "metadata": {
        "id": "s8uhRbtlORPM"
      },
      "source": [
        "# Result"
      ]
    },
    {
      "cell_type": "code",
      "metadata": {
        "colab": {
          "base_uri": "https://localhost:8080/"
        },
        "id": "uUqCVrcchf9B",
        "outputId": "b99f876b-df6d-480a-d2af-9da2a07bd1f6"
      },
      "source": [
        "# -*- coding: utf-8 -*-# -*- coding: utf-8 -*-\n",
        "import sys\n",
        "from gensim.models import word2vec \n",
        "from gensim import models\n",
        "\n",
        "def main():   \n",
        "    a = input(\"input:\") \n",
        "    fileSegWordDonePath2 = '/content/drive/My Drive/wiki_zh/DriveUploader/corpusSegDone.model'\n",
        "    model = models.Word2Vec.load(fileSegWordDonePath2)\n",
        "    try:\n",
        "        res = model.most_similar(a, topn=20)\n",
        "        for item in res: \n",
        "            print(str(item[0]) + ':' + str(item[1]))\n",
        "    except KeyError:\n",
        "        print(a + \" is not in the vocabulary\")\n",
        "\n",
        "if __name__=='__main__':\n",
        "    main()"
      ],
      "execution_count": 2,
      "outputs": [
        {
          "output_type": "stream",
          "text": [
            "input:餅乾\n"
          ],
          "name": "stdout"
        },
        {
          "output_type": "stream",
          "text": [
            "/usr/local/lib/python3.7/dist-packages/ipykernel_launcher.py:11: DeprecationWarning: Call to deprecated `most_similar` (Method will be removed in 4.0.0, use self.wv.most_similar() instead).\n",
            "  # This is added back by InteractiveShellApp.init_path()\n"
          ],
          "name": "stderr"
        },
        {
          "output_type": "stream",
          "text": [
            "薯條:0.8262001872062683\n",
            "糖果:0.8244751691818237\n",
            "奶油:0.822588324546814\n",
            "果汁:0.8099068403244019\n",
            "薯片:0.8083598613739014\n",
            "軟糖:0.8079686760902405\n",
            "巧克力:0.8006643056869507\n",
            "零食:0.7975587844848633\n",
            "果醬:0.7928873300552368\n",
            "冰淇淋:0.7911243438720703\n",
            "雞塊:0.7849758863449097\n",
            "甜點:0.7848320007324219\n",
            "雞尾酒:0.7830371856689453\n",
            "牛排:0.7809081673622131\n",
            "蛋糕:0.7798120975494385\n",
            "玉米片:0.7787021398544312\n",
            "芥末:0.7785236835479736\n",
            "吐司:0.7784594893455505\n",
            "蘋果派:0.7771775722503662\n",
            "焦糖:0.7768616676330566\n"
          ],
          "name": "stdout"
        }
      ]
    }
  ]
}